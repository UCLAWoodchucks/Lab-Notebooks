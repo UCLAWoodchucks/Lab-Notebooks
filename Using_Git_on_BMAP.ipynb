{
 "cells": [
  {
   "cell_type": "markdown",
   "metadata": {},
   "source": [
    "# Setting up private git repository on the BMAP server\n",
    "\n",
    "## SSH Keys\n",
    "### Check for existing keys on BMAP\n",
    "<https://help.github.com/articles/checking-for-existing-ssh-keys/>"
   ]
  },
  {
   "cell_type": "code",
   "execution_count": 1,
   "metadata": {},
   "outputs": [
    {
     "name": "stdout",
     "output_type": "stream",
     "text": [
      "total 8\n",
      "drwx------   3 emilywood  staff    96 Feb 14  2018 .\n",
      "drwxr-xr-x+ 43 emilywood  staff  1376 Aug 23 08:54 ..\n",
      "-rw-r--r--   1 emilywood  staff  1374 Aug  2 10:17 known_hosts\n"
     ]
    }
   ],
   "source": [
    "ls -al ~/.ssh"
   ]
  },
  {
   "cell_type": "markdown",
   "metadata": {},
   "source": [
    "### Generate a new SSH Key\n",
    "<https://help.github.com/articles/generating-a-new-ssh-key-and-adding-it-to-the-ssh-agent/#generating-a-new-ssh-key>"
   ]
  },
  {
   "cell_type": "code",
   "execution_count": null,
   "metadata": {},
   "outputs": [
    {
     "name": "stdout",
     "output_type": "stream",
     "text": [
      "Generating public/private rsa key pair.\n"
     ]
    }
   ],
   "source": [
    "ssh-keygen -t rsa -b 4096 -C \"emilytwood@gmail.com\""
   ]
  },
  {
   "cell_type": "markdown",
   "metadata": {},
   "source": [
    "### Add the SSH key to the SSH Agent\n",
    "<https://help.github.com/articles/generating-a-new-ssh-key-and-adding-it-to-the-ssh-agent/#adding-your-ssh-key-to-the-ssh-agent>"
   ]
  },
  {
   "cell_type": "code",
   "execution_count": null,
   "metadata": {},
   "outputs": [],
   "source": [
    "eval \"$(ssh-agent -s)\"\n",
    "ssh-add ~/.ssh/id_rsa"
   ]
  },
  {
   "cell_type": "markdown",
   "metadata": {},
   "source": [
    "### Add the SSH key to your Github account\n",
    "<https://help.github.com/articles/adding-a-new-ssh-key-to-your-github-account/#platform-linux>\n",
    "\n",
    "You can save a copy on your computer from your terminal. But, be very careful: __do not put it in a public repository__."
   ]
  },
  {
   "cell_type": "code",
   "execution_count": null,
   "metadata": {},
   "outputs": [],
   "source": [
    "scp ewood@ssh.bmap.ucla.edu:/ifshome/ewood/.ssh/id_rsa.pub ."
   ]
  },
  {
   "cell_type": "markdown",
   "metadata": {},
   "source": [
    "* In the upper-right corner of any Git page, click your profile photo, then click Settings.\n",
    "* In the user settings sidebar, click SSH and GPG keys.\n",
    "* Click New SSH key or Add SSH key.\n",
    "* In the \"Title\" field, add a descriptive label such as 'BMAP'.\n",
    "* Open id_rsa.pub in your favorite text editor. Copy and paste the [very long] key from the file into the \"Key\" field. \n",
    "* Click Add SSH key. If prompted, confirm your GitHub password. "
   ]
  },
  {
   "cell_type": "markdown",
   "metadata": {},
   "source": [
    "## Git file versioning\n",
    "### Clone repository to BMAP\n",
    "\n",
    "Copy the \"Clone with SSH\" link from the Repo website:"
   ]
  },
  {
   "cell_type": "code",
   "execution_count": null,
   "metadata": {},
   "outputs": [
    {
     "name": "stdout",
     "output_type": "stream",
     "text": [
      "Cloning into 'Lab-Notebooks'...\n",
      "The authenticity of host 'github.com (192.30.255.112)' can't be established.\n",
      "RSA key fingerprint is SHA256:nThbg6kXUpJWGl7E1IGOCspRomTxdCARLviKw6E5SY8.\n"
     ]
    }
   ],
   "source": [
    "git clone git@github.com:UCLAWoodchucks/Lab-Notebooks.git\n",
    "\n",
    "## Asks for BMAP password to access key"
   ]
  },
  {
   "cell_type": "markdown",
   "metadata": {},
   "source": [
    "### Make Changes to files\n",
    "\n",
    "### Save your changes\n",
    "<https://www.atlassian.com/git/tutorials/saving-changes>\n",
    "\n",
    "* git status\n",
    "> * displays the state of the working directory and the staging area. It lets you see which changes have been staged, which haven’t, and which files aren’t being tracked by Git. Status output does not show you any information regarding the committed project history.\n",
    "* git add \n",
    "> * adds a change in the working directory to the staging area. It tells Git that you want to include updates to a particular file in the next commit.\n",
    "> * To add one file: git add <filepath>\n",
    "> * To add all: git add -A\n",
    "* git commit\n",
    "> * A commit is the Git equivalent of a \"save\". Add a message to \n",
    "> * git commit -m \"Something new.\"\n",
    "* git push\n",
    "    \n",
    "### Sync with the remote repository\n",
    "<https://www.atlassian.com/git/tutorials/syncing>\n",
    "\n",
    "* git push\n",
    "> * used to write to a remote repository.\n",
    "> * git push -u origin master"
   ]
  },
  {
   "cell_type": "code",
   "execution_count": null,
   "metadata": {},
   "outputs": [],
   "source": []
  }
 ],
 "metadata": {
  "kernelspec": {
   "display_name": "Bash",
   "language": "bash",
   "name": "bash"
  },
  "language_info": {
   "codemirror_mode": "shell",
   "file_extension": ".sh",
   "mimetype": "text/x-sh",
   "name": "bash"
  }
 },
 "nbformat": 4,
 "nbformat_minor": 2
}
