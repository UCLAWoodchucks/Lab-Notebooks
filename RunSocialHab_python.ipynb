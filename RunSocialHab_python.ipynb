{
 "cells": [
  {
   "cell_type": "markdown",
   "metadata": {},
   "source": [
    "# Processing Social Habituation Task Scans"
   ]
  },
  {
   "cell_type": "markdown",
   "metadata": {},
   "source": [
    "## 1. Examine raw data for problems."
   ]
  },
  {
   "cell_type": "code",
   "execution_count": null,
   "metadata": {},
   "outputs": [],
   "source": [
    "%%bash\n",
    "\n",
    "cd /ifs/faculty/mirella/fmri/Prisma/\n",
    "fslview_deprecated"
   ]
  },
  {
   "cell_type": "code",
   "execution_count": null,
   "metadata": {},
   "outputs": [],
   "source": [
    "%%bash\n",
    "\n",
    "source \"$GUNTHERDIR/include/Asourceall.sh\""
   ]
  },
  {
   "cell_type": "markdown",
   "metadata": {},
   "source": [
    "## 2. Add new subjects\n",
    "### Subjects_all, subjects_new, subject_[pres_order], and  subject_[pres_order]_new\n"
   ]
  },
  {
   "cell_type": "code",
   "execution_count": null,
   "metadata": {},
   "outputs": [],
   "source": [
    "subjects_all=\"TD182B TD174B ASD180B ASD189B ASD156B ASD148D ASD113F TD157B ASD158B ASD187B TD106D TD163B ASD200B TD166B ASD194B ASD163B ASD162B TD170B ASD167B ASD159B ASD192B\"\n",
    "subjects_new=\"TD170B\" # \"ASD167B ASD159B ASD192B\" \n",
    "\n",
    "subjects_a=\"TD182B ASD180B ASD113F TD163B ASD194B ASD159B \"\n",
    "subjects_a_new=\"ASD159B\"\n",
    "subjects_b=\"TD174B ASD189B ASD158B ASD163B ASD192B TD170B \"\n",
    "subjects_b_new=\"TD170B\" #ASD192B\n",
    "subjects_c=\"ASD156B TD157B ASD187B TD166B TD162B \"\n",
    "subjects_c_new=\"ASD162B\"\n",
    "subjects_d=\"ASD148D TD106D ASD200B ASD167B \"\n",
    "subjects_d_new=\"ASD167B\"\n",
    "\n",
    "subjects_all=$subjects_a$subjects_b$subjects_c$subjects_d"
   ]
  },
  {
   "cell_type": "code",
   "execution_count": null,
   "metadata": {},
   "outputs": [],
   "source": [
    "import numpy as np\n",
    "import pandas as pd\n",
    "\n",
    "sub_list = np.array([('TD182B', 'a'), ('TD174B', 'b')], dtype=[('Subj_ID', 'str'), ('pres_order', 'str')])\n",
    "\n",
    "pd.DataFrame(sub_list)"
   ]
  },
  {
   "cell_type": "code",
   "execution_count": null,
   "metadata": {},
   "outputs": [],
   "source": [
    "sub_list"
   ]
  },
  {
   "cell_type": "markdown",
   "metadata": {},
   "source": [
    "## 3. Register fMRI to MPRAGE"
   ]
  },
  {
   "cell_type": "code",
   "execution_count": null,
   "metadata": {},
   "outputs": [],
   "source": [
    "%%bash\n",
    "\n",
    "start=$(date +%s.%N)\n",
    "\n",
    "$GUNTHERDIR/g_regFunc.sh -B /ifs/faculty/mirella/fmri/Prisma -A mprage_HCP4min -R socialhabituation -S ${subjects_new}\n",
    "\n",
    "end=$(date +%s.%N)    \n",
    "runtime=$(python -c \"print(${end} - ${start})\")\n",
    "\n",
    "echo \"Runtime was $runtime\""
   ]
  },
  {
   "cell_type": "markdown",
   "metadata": {},
   "source": [
    "____\n",
    "<span style=\"font-family:courier;\">Runtime for 1 subject on BMAP was 382 sec = 6.3 min</span>"
   ]
  },
  {
   "cell_type": "markdown",
   "metadata": {},
   "source": [
    "## 4. Make Registration and Motion Reports\n",
    "### 4. A. Registration Reports\n",
    "#### Make reports"
   ]
  },
  {
   "cell_type": "code",
   "execution_count": null,
   "metadata": {},
   "outputs": [],
   "source": [
    "%%bash\n",
    "\n",
    "cd /ifs/faculty/mirella/fmri/Prisma/ShulaK08/SocialHabituation/reports/registration\n",
    "gh_reportReg.sh report_reg_ASD_SocialHabituation.html ../../../../subjects/ASD*/socialhabituation/2_reg\n",
    "gh_reportReg.sh report_reg_TD_SocialHabituation.html ../../../../subjects/TD*/socialhabituation/2_reg"
   ]
  },
  {
   "cell_type": "markdown",
   "metadata": {},
   "source": [
    "#### View reports\n",
    "Copy/paste into browser on BMAP:\n",
    "<file:///ifs/faculty/mirella/fmri/Prisma/ShulaK08/SocialHabituation/reports/registration/report_reg_ASD_SocialHabituation.html>\n",
    "\n",
    "Copy/paste into browser on your computer if using OSXFUSE or similar:\n",
    "<file:///Users/emilywood/Desktop/BMAP/Prisma/ShulaK08/SocialHabituation/reports/registration/report_reg_TD_SocialHabituation.html>"
   ]
  },
  {
   "cell_type": "markdown",
   "metadata": {},
   "source": [
    "### 4. B. Motion Reports\n",
    "#### Make reports"
   ]
  },
  {
   "cell_type": "code",
   "execution_count": null,
   "metadata": {},
   "outputs": [],
   "source": [
    "%%bash\n",
    "\n",
    "cd /ifs/faculty/mirella/fmri/Prisma/ShulaK08/SocialHabituation/reports/motion\n",
    "gh_reportMotion.sh report_motion_ASD_sochabit.html ../../../../subjects/ASD*/socialhabituation/1_preprocess/mc\n",
    "gh_reportMotion.sh report_motion_TD_sochabit.html ../../../../subjects/TD*/socialhabituation/1_preprocess/mc"
   ]
  },
  {
   "cell_type": "markdown",
   "metadata": {},
   "source": [
    "#### View Reports\n",
    "Copy/paste into browser on BMAP: <file:///ifs/faculty/mirella/fmri/Prisma/ShulaK08/SocialHabituation/reports/motion/report_motion_ASD_SocialHabituation.html>\n",
    "Copy/paste into browser on your computer if using OSXFUSE or similar: <file:///Users/emilywood/Desktop/BMAP/Prisma/ShulaK08/SocialHabituation/reports/motion/report_motion_TD_SocialHabituation.html>\n",
    "\n",
    "#### Record motion parameters in Spreadsheet \n",
    "(SocialHabituation_Data_date_.xls in BMAP folder)\n",
    "Evaluate registration and note in Spreadsheet\n",
    "\n"
   ]
  },
  {
   "cell_type": "markdown",
   "metadata": {},
   "source": [
    "## 5. Put Habituation EVs in each Subject's folder\n",
    "### Chose the correct presentation order (A, B, C, or D)"
   ]
  },
  {
   "cell_type": "code",
   "execution_count": null,
   "metadata": {},
   "outputs": [],
   "source": [
    "%%bash\n",
    "\n",
    "for subject in ${subjects_a_new}; do\n",
    "zcmd \"mkdir /ifs/faculty/mirella/fmri/Prisma/subjects/${subject}/socialhabituation/EVs\"\n",
    "zcmd \"cp -r /ifs/faculty/mirella/fmri/Prisma/ShulaK08/SocialHabituation/EVs/JointNonSocHabitA.txt /ifs/faculty/mirella/fmri/Prisma/subjects/${subject}/socialhabituation/EVs/\"\n",
    "zcmd \"cp -r /ifs/faculty/mirella/fmri/Prisma/ShulaK08/SocialHabituation/EVs/JointSocHabitA.txt /ifs/faculty/mirella/fmri/Prisma/subjects/${subject}/socialhabituation/EVs/\"\n",
    "zcmd \"cp -r /ifs/faculty/mirella/fmri/Prisma/ShulaK08/SocialHabituation/EVs/AudNonSocHabitA.txt /ifs/faculty/mirella/fmri/Prisma/subjects/${subject}/socialhabituation/EVs/\"\n",
    "zcmd \"cp -r /ifs/faculty/mirella/fmri/Prisma/ShulaK08/SocialHabituation/EVs/AudSocHabitA.txt /ifs/faculty/mirella/fmri/Prisma/subjects/${subject}/socialhabituation/EVs/\"\n",
    "zcmd \"cp -r /ifs/faculty/mirella/fmri/Prisma/ShulaK08/SocialHabituation/EVs/TactSocHabitAC.txt /ifs/faculty/mirella/fmri/Prisma/subjects/${subject}/socialhabituation/EVs/\"\n",
    "zcmd \"mv /ifs/faculty/mirella/fmri/Prisma/subjects/${subject}/socialhabituation/EVs/JointNonSocHabitA.txt /ifs/faculty/mirella/fmri/Prisma/subjects/${subject}/socialhabituation/EVs/JointNonSocHabit.txt\"\n",
    "zcmd \"mv /ifs/faculty/mirella/fmri/Prisma/subjects/${subject}/socialhabituation/EVs/JointSocHabitA.txt /ifs/faculty/mirella/fmri/Prisma/subjects/${subject}/socialhabituation/EVs/JointSocHabit.txt\"\n",
    "zcmd \"mv /ifs/faculty/mirella/fmri/Prisma/subjects/${subject}/socialhabituation/EVs/AudNonSocHabitA.txt /ifs/faculty/mirella/fmri/Prisma/subjects/${subject}/socialhabituation/EVs/AudNonSocHabit.txt\"\n",
    "zcmd \"mv /ifs/faculty/mirella/fmri/Prisma/subjects/${subject}/socialhabituation/EVs/AudSocHabitA.txt /ifs/faculty/mirella/fmri/Prisma/subjects/${subject}/socialhabituation/EVs/AudSocHabit.txt\"\n",
    "zcmd \"mv /ifs/faculty/mirella/fmri/Prisma/subjects/${subject}/socialhabituation/EVs/TactSocHabitAC.txt /ifs/faculty/mirella/fmri/Prisma/subjects/${subject}/socialhabituation/EVs/TactSocHabit.txt\"\n",
    "done\n",
    "\n",
    "for subject in ${subjects_b_new}; do\n",
    "zcmd \"mkdir /ifs/faculty/mirella/fmri/Prisma/subjects/${subject}/socialhabituation/EVs\"\n",
    "zcmd \"cp -r /ifs/faculty/mirella/fmri/Prisma/ShulaK08/SocialHabituation/EVs/JointNonSocHabitB.txt /ifs/faculty/mirella/fmri/Prisma/subjects/${subject}/socialhabituation/EVs/\"\n",
    "zcmd \"cp -r /ifs/faculty/mirella/fmri/Prisma/ShulaK08/SocialHabituation/EVs/JointSocHabitB.txt /ifs/faculty/mirella/fmri/Prisma/subjects/${subject}/socialhabituation/EVs/\"\n",
    "zcmd \"cp -r /ifs/faculty/mirella/fmri/Prisma/ShulaK08/SocialHabituation/EVs/AudNonSocHabitB.txt /ifs/faculty/mirella/fmri/Prisma/subjects/${subject}/socialhabituation/EVs/\"\n",
    "zcmd \"cp -r /ifs/faculty/mirella/fmri/Prisma/ShulaK08/SocialHabituation/EVs/AudSocHabitB.txt /ifs/faculty/mirella/fmri/Prisma/subjects/${subject}/socialhabituation/EVs/\"\n",
    "zcmd \"cp -r /ifs/faculty/mirella/fmri/Prisma/ShulaK08/SocialHabituation/EVs/TactSocHabitBD.txt /ifs/faculty/mirella/fmri/Prisma/subjects/${subject}/socialhabituation/EVs/\"\n",
    "zcmd \"mv /ifs/faculty/mirella/fmri/Prisma/subjects/${subject}/socialhabituation/EVs/JointNonSocHabitB.txt /ifs/faculty/mirella/fmri/Prisma/subjects/${subject}/socialhabituation/EVs/JointNonSocHabit.txt\"\n",
    "zcmd \"mv /ifs/faculty/mirella/fmri/Prisma/subjects/${subject}/socialhabituation/EVs/JointSocHabitB.txt /ifs/faculty/mirella/fmri/Prisma/subjects/${subject}/socialhabituation/EVs/JointSocHabit.txt\"\n",
    "zcmd \"mv /ifs/faculty/mirella/fmri/Prisma/subjects/${subject}/socialhabituation/EVs/AudNonSocHabitB.txt /ifs/faculty/mirella/fmri/Prisma/subjects/${subject}/socialhabituation/EVs/AudNonSocHabit.txt\"\n",
    "zcmd \"mv /ifs/faculty/mirella/fmri/Prisma/subjects/${subject}/socialhabituation/EVs/AudSocHabitB.txt /ifs/faculty/mirella/fmri/Prisma/subjects/${subject}/socialhabituation/EVs/AudSocHabit.txt\"\n",
    "zcmd \"mv /ifs/faculty/mirella/fmri/Prisma/subjects/${subject}/socialhabituation/EVs/TactSocHabitBD.txt /ifs/faculty/mirella/fmri/Prisma/subjects/${subject}/socialhabituation/EVs/TactSocHabit.txt\"\n",
    "done\n",
    "\n",
    "for subject in ${subjects_c_new}; do\n",
    "zcmd \"mkdir /ifs/faculty/mirella/fmri/Prisma/subjects/${subject}/socialhabituation/EVs\"\n",
    "zcmd \"cp -r /ifs/faculty/mirella/fmri/Prisma/ShulaK08/SocialHabituation/EVs/JointNonSocHabitC.txt /ifs/faculty/mirella/fmri/Prisma/subjects/${subject}/socialhabituation/EVs/\"\n",
    "zcmd \"cp -r /ifs/faculty/mirella/fmri/Prisma/ShulaK08/SocialHabituation/EVs/JointSocHabitC.txt /ifs/faculty/mirella/fmri/Prisma/subjects/${subject}/socialhabituation/EVs/\"\n",
    "zcmd \"cp -r /ifs/faculty/mirella/fmri/Prisma/ShulaK08/SocialHabituation/EVs/AudNonSocHabitC.txt /ifs/faculty/mirella/fmri/Prisma/subjects/${subject}/socialhabituation/EVs/\"\n",
    "zcmd \"cp -r /ifs/faculty/mirella/fmri/Prisma/ShulaK08/SocialHabituation/EVs/AudSocHabitC.txt /ifs/faculty/mirella/fmri/Prisma/subjects/${subject}/socialhabituation/EVs/\"\n",
    "zcmd \"cp -r /ifs/faculty/mirella/fmri/Prisma/ShulaK08/SocialHabituation/EVs/TactSocHabitAC.txt /ifs/faculty/mirella/fmri/Prisma/subjects/${subject}/socialhabituation/EVs/\"\n",
    "zcmd \"mv /ifs/faculty/mirella/fmri/Prisma/subjects/${subject}/socialhabituation/EVs/JointNonSocHabitC.txt /ifs/faculty/mirella/fmri/Prisma/subjects/${subject}/socialhabituation/EVs/JointNonSocHabit.txt\"\n",
    "zcmd \"mv /ifs/faculty/mirella/fmri/Prisma/subjects/${subject}/socialhabituation/EVs/JointSocHabitC.txt /ifs/faculty/mirella/fmri/Prisma/subjects/${subject}/socialhabituation/EVs/JointSocHabit.txt\"\n",
    "zcmd \"mv /ifs/faculty/mirella/fmri/Prisma/subjects/${subject}/socialhabituation/EVs/AudNonSocHabitC.txt /ifs/faculty/mirella/fmri/Prisma/subjects/${subject}/socialhabituation/EVs/AudNonSocHabit.txt\"\n",
    "zcmd \"mv /ifs/faculty/mirella/fmri/Prisma/subjects/${subject}/socialhabituation/EVs/AudSocHabitC.txt /ifs/faculty/mirella/fmri/Prisma/subjects/${subject}/socialhabituation/EVs/AudSocHabit.txt\"\n",
    "zcmd \"mv /ifs/faculty/mirella/fmri/Prisma/subjects/${subject}/socialhabituation/EVs/TactSocHabitAC.txt /ifs/faculty/mirella/fmri/Prisma/subjects/${subject}/socialhabituation/EVs/TactSocHabit.txt\"\n",
    "done\n",
    "\n",
    "for subject in ${subjects_d_new}; do\n",
    "zcmd \"mkdir /ifs/faculty/mirella/fmri/Prisma/subjects/${subject}/socialhabituation/EVs\"\n",
    "zcmd \"cp -r /ifs/faculty/mirella/fmri/Prisma/ShulaK08/SocialHabituation/EVs/JointNonSocHabitD.txt /ifs/faculty/mirella/fmri/Prisma/subjects/${subject}/socialhabituation/EVs/\"\n",
    "zcmd \"cp -r /ifs/faculty/mirella/fmri/Prisma/ShulaK08/SocialHabituation/EVs/JointSocHabitD.txt /ifs/faculty/mirella/fmri/Prisma/subjects/${subject}/socialhabituation/EVs/\"\n",
    "zcmd \"cp -r /ifs/faculty/mirella/fmri/Prisma/ShulaK08/SocialHabituation/EVs/AudNonSocHabitD.txt /ifs/faculty/mirella/fmri/Prisma/subjects/${subject}/socialhabituation/EVs/\"\n",
    "zcmd \"cp -r /ifs/faculty/mirella/fmri/Prisma/ShulaK08/SocialHabituation/EVs/AudSocHabitD.txt /ifs/faculty/mirella/fmri/Prisma/subjects/${subject}/socialhabituation/EVs/\"\n",
    "zcmd \"cp -r /ifs/faculty/mirella/fmri/Prisma/ShulaK08/SocialHabituation/EVs/TactSocHabitBD.txt /ifs/faculty/mirella/fmri/Prisma/subjects/${subject}/socialhabituation/EVs/\"\n",
    "zcmd \"mv /ifs/faculty/mirella/fmri/Prisma/subjects/${subject}/socialhabituation/EVs/JointNonSocHabitD.txt /ifs/faculty/mirella/fmri/Prisma/subjects/${subject}/socialhabituation/EVs/JointNonSocHabit.txt\"\n",
    "zcmd \"mv /ifs/faculty/mirella/fmri/Prisma/subjects/${subject}/socialhabituation/EVs/JointSocHabitD.txt /ifs/faculty/mirella/fmri/Prisma/subjects/${subject}/socialhabituation/EVs/JointSocHabit.txt\"\n",
    "zcmd \"mv /ifs/faculty/mirella/fmri/Prisma/subjects/${subject}/socialhabituation/EVs/AudNonSocHabitD.txt /ifs/faculty/mirella/fmri/Prisma/subjects/${subject}/socialhabituation/EVs/AudNonSocHabit.txt\"\n",
    "zcmd \"mv /ifs/faculty/mirella/fmri/Prisma/subjects/${subject}/socialhabituation/EVs/AudSocHabitD.txt /ifs/faculty/mirella/fmri/Prisma/subjects/${subject}/socialhabituation/EVs/AudSocHabit.txt\"\n",
    "zcmd \"mv /ifs/faculty/mirella/fmri/Prisma/subjects/${subject}/socialhabituation/EVs/TactSocHabitBD.txt /ifs/faculty/mirella/fmri/Prisma/subjects/${subject}/socialhabituation/EVs/TactSocHabit.txt\"\n",
    "done"
   ]
  },
  {
   "cell_type": "markdown",
   "metadata": {},
   "source": [
    "## 6. Run FSL motion outliers script\n"
   ]
  },
  {
   "cell_type": "code",
   "execution_count": null,
   "metadata": {},
   "outputs": [],
   "source": [
    "%%bash\n",
    "\n",
    "start=$(date +%s.%N)\n",
    "\n",
    "baseDir=\"/ifs/faculty/mirella/fmri/Prisma/subjects\" #subjects folder; no slash at end\n",
    "inputDir=\"socialhabituation\" \n",
    "outputDir=\"/ifs/faculty/mirella/fmri/Prisma/subjects/socialhabituation\" \n",
    "\n",
    "for subject in ${subjects_new}; do\n",
    "zcmd \"cd ${baseDir}/${subject}/${inputDir}\"\n",
    "zcmd \"fsl_motion_outliers -i func_task_pp.nii.gz --refrms --nomoco -p refrms_plot -o motion_scrub_refrms\"\n",
    "done\n",
    "\n",
    "end=$(date +%s.%N)    \n",
    "runtime=$(python -c \"print(${end} - ${start})\")\n",
    "\n",
    "echo \"Runtime was $runtime\""
   ]
  },
  {
   "cell_type": "markdown",
   "metadata": {},
   "source": [
    "____\n",
    "<span style=\"font-family:courier;\">Runtime for 1 subject on BMAP was 344 sec = 5.75 min</span>"
   ]
  },
  {
   "cell_type": "markdown",
   "metadata": {},
   "source": [
    "## 7. Run FEATs\n"
   ]
  },
  {
   "cell_type": "code",
   "execution_count": null,
   "metadata": {},
   "outputs": [],
   "source": [
    "%%bash\n",
    "\n",
    "start=$(date +%s.%N)\n",
    "\n",
    "zcmd \"$GUNTHERDIR/g_runFeats.sh -T /ifs/faculty/mirella/fmri/Prisma/ShulaK08/SocialHabituation/design/design.fsf -j K08PILOT_121917 -B /ifs/faculty/mirella/fmri/Prisma -R socialhabituation -S $subjects_new\"\n",
    "zcmd \"$GUNTHERDIR/g_runFeats.sh -T /ifs/faculty/mirella/fmri/Prisma/ShulaK08/SocialHabituation/design/designmp_motionscrub.fsf -j K08PILOT_121917 -B /ifs/faculty/mirella/fmri/Prisma -R socialhabituation -S $subjects_new\"\n",
    "\n",
    "end=$(date +%s.%N)    \n",
    "runtime=$(python -c \"print(${end} - ${start})\")\n",
    "\n",
    "echo \"Runtime was $runtime\""
   ]
  },
  {
   "cell_type": "markdown",
   "metadata": {},
   "source": [
    "____\n",
    "Even though it says you were done in 29 sec, the FEAT is running in the background.\n",
    "\n",
    "<span style=\"font-family:courier;\">Runtime for 1 subject on BMAP was X sec = X min</span>"
   ]
  },
  {
   "cell_type": "code",
   "execution_count": null,
   "metadata": {},
   "outputs": [],
   "source": []
  }
 ],
 "metadata": {
  "kernelspec": {
   "display_name": "Python 3",
   "language": "python",
   "name": "python3"
  },
  "language_info": {
   "codemirror_mode": {
    "name": "ipython",
    "version": 3
   },
   "file_extension": ".py",
   "mimetype": "text/x-python",
   "name": "python",
   "nbconvert_exporter": "python",
   "pygments_lexer": "ipython3",
   "version": "3.6.5"
  }
 },
 "nbformat": 4,
 "nbformat_minor": 2
}
