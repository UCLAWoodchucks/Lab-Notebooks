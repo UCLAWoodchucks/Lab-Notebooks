{
 "cells": [
  {
   "cell_type": "markdown",
   "metadata": {},
   "source": [
    "## Making a FEAT Template\n",
    "\n",
    "There are different design steps.\n",
    "\n",
    "The preprocessing FEAT (step 2b) does 6mm spatial smoothing "
   ]
  },
  {
   "cell_type": "code",
   "execution_count": null,
   "metadata": {},
   "outputs": [],
   "source": [
    "##### Create and run feat for each subject\n",
    "if [ ${switch2b_runPreprocessFeat} -eq 1 ]; then\n",
    "\n",
    "##### Get number of vols subject has\n",
    "\tfor subject in ${subjects_new}; do\t\n",
    "\t\t\tsubdir=\"${basedir}/subjects/${subject}/${funcdir}\"\n",
    "\t\t\tfeatdir=\"${subdir}/feats\"\t\n",
    "\t\t\tsubVolInfo=`fslinfo ${subdir}/func_task_pp.nii.gz`\n",
    "\t\t\toneSubVols=`echo $subVolInfo | awk '{print $10}'` #Sometimes this is $10, othertimes $12 seemingly depending on the computer or dataset. Check below which one it is for this list of subs.\n",
    "\t\t\t\tfslinfo ${subdir}/func_task_pp.nii.gz\n",
    "\t\t\t\techo $subVolInfo | awk '{print $10}'\n",
    "\t\t\t\techo $subVolInfo | awk '{print $12}'\n",
    "\t\t\t\techo $oneSubVols\n",
    "\t\t\t\n",
    "\t\t\t### Create feat for each subject\n",
    "\t\t\tztitle \"Creating Template Feat for ${oneSubVols} volumes\"\n",
    "\t\t\tzcmd \"sed 's/zzz/${oneSubVols}/g' ${homedir}/DesignFiles/ICAaroma_6mm_4Dmeanintensity_Template_Vols.fsf > ${homedir}/DesignFiles/ICAaroma_6mm_4Dmeanintensity_${oneSubVols}_Vols.fsf\"\n",
    "\t\t\t\n",
    "\t\t\t### Run feat for each subject\n",
    "\t\t\tztitle \"Running Preprocessing FEAT for ${subject} with 6mm spatial smoothing\" # ?and 4D mean intensity normalization\"\n",
    "\t\t\tzcmd \"g_runFeats.sh -B ${basedir} -R ${funcdir} -T ${homedir}/DesignFiles/ICAaroma_6mm_4Dmeanintensity_${oneSubVols}_Vols.fsf -j xxxxxx -S ${subject}\"\n",
    "\tdone\n",
    "\n",
    "fi\n"
   ]
  }
 ],
 "metadata": {
  "kernelspec": {
   "display_name": "Bash",
   "language": "bash",
   "name": "bash"
  },
  "language_info": {
   "codemirror_mode": "shell",
   "file_extension": ".sh",
   "mimetype": "text/x-sh",
   "name": "bash"
  }
 },
 "nbformat": 4,
 "nbformat_minor": 2
}
