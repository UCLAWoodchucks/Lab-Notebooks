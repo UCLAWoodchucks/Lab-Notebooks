{
 "cells": [
  {
   "cell_type": "markdown",
   "metadata": {},
   "source": [
    "# Resting State Processing - Neurogunther on Cerebrum\n",
    "\n",
    "Numbering of steps corresponds to switches in Kathy's script \"RestXminBatch_xxx_ICAaroma\"\n",
    "\n",
    "/ifs/faculty/mirella/fmri/Prisma/RestingStateAnalysis/Scripts/RestXminBatch_SFARI_ICAaroma_EW.sh\n"
   ]
  },
  {
   "cell_type": "code",
   "execution_count": null,
   "metadata": {},
   "outputs": [],
   "source": [
    "source \"$GUNTHERDIR/include/Asourceall.sh\""
   ]
  },
  {
   "cell_type": "markdown",
   "metadata": {},
   "source": [
    "### Directories and File Names"
   ]
  },
  {
   "cell_type": "code",
   "execution_count": null,
   "metadata": {},
   "outputs": [],
   "source": [
    "rawdirs=\"RFMRI_REST_AP_7 RFMRI_REST_AP_8 RFMRI_REST_AP_9 RFMRI_REST_AP_10 RFMRI_REST_AP_11 RFMRI_REST_AP_12\"\n",
    "    # Possible names of the raw resting state data. Differences due to scanner collection order, ect.\n",
    "\n",
    "basedir=\"/nafs/sgreen/fmri/Prisma\"\n",
    "    #\"/ifs/faculty/mirella/fmri/Prisma\"\n",
    "\n",
    "homedir=\"/nafs/sgreen/fmri/Prisma/RestingStateAnalysis\"\n",
    "    #\"/ifs/faculty/mirella/fmri/Prisma/RestingStateAnalysis\"\n",
    "\n",
    "scripts_dir=\"/nafs/sgreen/fmri/Prisma/RestingStateAnalysis/Scripts \"\n",
    "    #\"/ifs/faculty/mirella/fmri/Pelphrey/RestingStateAnalysis/ACE_Girls/Scripts\"\n",
    "\n",
    "funcdir=\"restingHCP\"\n",
    "    # Directory where resting state analysis will be put in each subject directory\n",
    "\n",
    "featdir_preprocess=\"${funcdir}/feats/ICAaroma_6mm_4Dmeanintensity.feat\"\n",
    "\n",
    "featdir_tissueregress=\"${funcdir}/feats/ICAaroma_global_tissueregress.feat\"\n",
    "\n",
    "options=\"global\"\n",
    "\n"
   ]
  },
  {
   "cell_type": "markdown",
   "metadata": {},
   "source": [
    "### Subjects"
   ]
  },
  {
   "cell_type": "code",
   "execution_count": null,
   "metadata": {},
   "outputs": [],
   "source": [
    "subjects_new=\"TD140_ETW\"\n",
    "    # A list of the subject folders to be processed."
   ]
  },
  {
   "cell_type": "markdown",
   "metadata": {},
   "source": [
    "## 1. Preprocess and Register Data\n",
    "### 1a. Bring Subject Data Over From Scanner--this is typically done by SRAs well in advance of analysis\n",
    "### 1b. Check for raw resting data and copy into its only processing directory (funcdir)"
   ]
  },
  {
   "cell_type": "code",
   "execution_count": null,
   "metadata": {},
   "outputs": [],
   "source": [
    "#Look through two naming options and counts if there are multiple resting-state scans within the raw folder.\n",
    "for subject in ${subjects_new}; do\n",
    "    for raw in ${rawdirs}; do \n",
    "        counterVar=0\n",
    "        for item in ${basedir}/subjects/${subject}/raw/${raw}; do\n",
    "            counterVar=$(( ${counterVar}+1 ))\n",
    "            #echo \"${item}\"\n",
    "        done\n",
    "        if (( ${counterVar}>1 )); then\n",
    "            echo \"Check ${subject} because ${counterVar} raw resting-state files exist.\"\n",
    "            #echo ${basedir}/subjects/${subject}/raw/${raw} #Can echo the file names if you so wish\n",
    "        fi\n",
    "\n",
    "#If subject only has one raw resting-state scan, and there isn't already a raw in the named resting-state folder, then copy their raw scan to the subjects resting-state folder\n",
    "        if [ ${counterVar} -eq 1 ]; then\n",
    "            if [ -d ${basedir}/subjects/${subject}/raw/${raw} ]; then #Copy from raw folder only if it exists\n",
    "                if [ ! -f ${basedir}/subjects/${subject}/${funcdir}/raw.nii.gz ]; then #Copy to new folder only if there's not already a raw in that folder\n",
    "                    zinfo \"${subject}: Copying raw.nii.gz from raw to new ${funcdir} folder\"\n",
    "                    mkdir ${basedir}/subjects/${subject}/${funcdir}\n",
    "                    cp ${basedir}/subjects/${subject}/raw/${raw}/* ${basedir}/subjects/${subject}/${funcdir}/raw.nii.gz\n",
    "                    chmod -R 777 ${basedir}/subjects/${subject}/${funcdir}/\n",
    "                fi\n",
    "            fi\n",
    "        fi\n",
    "    done\n",
    "done"
   ]
  },
  {
   "cell_type": "code",
   "execution_count": null,
   "metadata": {},
   "outputs": [],
   "source": [
    "for subject in ${subjects_new}; do\n",
    "    subdir=\"${basedir}/subjects/${subject}/${funcdir}\"\n",
    "    #Get info of number of vols in raw scan\n",
    "    subVolInfo=`fslinfo ${subdir}/raw.nii.gz`\n",
    "    echo $subVolInfo\n",
    "    subVolInfoNum=`echo ${subVolInfo} | awk '{print $10}'` #Sometimes this is $10, othertimes $12 seemingly depending on the computer or dataset\n",
    "    echo $subVolInfoNum\n",
    "    #Check raw scan length and act accordingly\n",
    "    if [ ${subVolInfoNum} -eq 240 ]; then\n",
    "        echo ${subject}': 8 minute scan, creating 6 minute version'\n",
    "        cp ${basedir}/subjects/${subject}/${funcdir}/raw.nii.gz ${subdir}/raw_fullVolVersion.nii.gz\n",
    "        fslroi ${subdir}/raw_fullVolVersion.nii.gz ${subdir}/raw.nii.gz 0 165\t\n",
    "    elif [ ${subVolInfoNum} -eq 165 ]; then\n",
    "        echo ${subject}': 6 minute scan, ignoring subject'\n",
    "    else\n",
    "        echo ${subject}': Scan was neither 6 nor 8 minutes, was instead '${subVolInfoNum} 'volumes. Ignoring subject'\n",
    "    fi\n",
    "\n",
    "done"
   ]
  },
  {
   "cell_type": "markdown",
   "metadata": {},
   "source": [
    "### 1c. Preprocessing "
   ]
  },
  {
   "cell_type": "code",
   "execution_count": null,
   "metadata": {},
   "outputs": [],
   "source": [
    "for subject in ${subjects_new}; do\n",
    "    if [ -f ${basedir}/subjects/${subject}/${funcdir}/func_task_pp.nii.gz ]; then\n",
    "        echo \"${subject}: Already had the func_task_pp.nii.gz file. Skipping step.\"\n",
    "    else #Only run the preprocessing script if the func_task_pp file doesn't already exist (i.e. the script hasn't been run yet)\n",
    "        zcmd \"g_preprocessFunc_fslBET.sh -B ${basedir} -R ${funcdir} -S ${subject}\"\n",
    "    fi\n",
    "done"
   ]
  },
  {
   "cell_type": "markdown",
   "metadata": {},
   "source": [
    "### 1c. Create mean functional image for registration (restingmeanfunc)"
   ]
  },
  {
   "cell_type": "code",
   "execution_count": null,
   "metadata": {},
   "outputs": [],
   "source": [
    "for subject in ${subjects_new}; do\n",
    "    if [ ! -f ${basedir}/subjects/${subject}/anat_hires/brain.nii.gz ]; then #Only run preprocessing script if it seems it hasn't been run before\n",
    "        zcmd \"cd ${basedir}/subjects/${subject}/restingHCP\"\n",
    "        zcmd \"fslmaths raw.nii.gz -Tmean restingmeanfunc\"\n",
    "        zcmd \"fslmaths restingmeanfunc.nii.gz restingmeanfuncshort.nii.gz -odt short\"\n",
    "        zcmd \"chmod 777 restingmeanfuncshort.nii.gz\"\n",
    "        zcmd \"cd ${basedir}/subjects/${subject}/\"\n",
    "        zcmd \"mkdir -m 777 restingmeanfunc\"\n",
    "        zcmd \"cp -r ${basedir}/subjects/${subject}/restingHCP/restingmeanfuncshort.nii.gz ${basedir}/subjects/${subject}/restingmeanfunc/\"\n",
    "        zcmd \"mv ${basedir}/subjects/${subject}/restingmeanfunc/restingmeanfuncshort.nii.gz ${basedir}/subjects/${subject}/restingmeanfunc/raw.nii.gz\"\n",
    "        zcmd \"g_preprocessAnat.sh -B ${basedir} -A restingmeanfunc -S ${subject}\"\n",
    "    fi\n",
    "done"
   ]
  },
  {
   "cell_type": "markdown",
   "metadata": {},
   "source": [
    "### 1d. Register all volumes to Mean Resting State Image (restingmeanfunc)"
   ]
  },
  {
   "cell_type": "code",
   "execution_count": 1,
   "metadata": {},
   "outputs": [
    {
     "name": "stdout",
     "output_type": "stream",
     "text": [
      "bash: zcmd: command not found\n"
     ]
    },
    {
     "ename": "",
     "evalue": "127",
     "output_type": "error",
     "traceback": []
    }
   ],
   "source": [
    "zcmd \"g_regFunc.sh -B ${basedir} -A restingmeanfunc -R ${funcdir} -S ${subjects_new}\""
   ]
  },
  {
   "cell_type": "markdown",
   "metadata": {},
   "source": [
    "## 2. Processing to prepare for ICA-AROMA: BET, Spatial Smoothing, 4D Mean Intensity Normalization\n",
    "\n",
    "### 2a. Run BET to create a mask for ICA-AROMA"
   ]
  },
  {
   "cell_type": "code",
   "execution_count": null,
   "metadata": {},
   "outputs": [],
   "source": [
    "for subject in ${subjects_new}; do\n",
    "    subdir=\"${basedir}/subjects/${subject}/${funcdir}\"\n",
    "    cd ${subdir}/\n",
    "    zinfo \"Running bet for ${subject}\"\n",
    "    bet func_example.nii.gz func_example_bet.nii.gz -f 0.3 -n -m -R\n",
    "    chmod 777 *\n",
    "done"
   ]
  },
  {
   "cell_type": "markdown",
   "metadata": {},
   "source": [
    "### 2b. Run FEAT with 6mm spatial smoothing and 4D mean intensity normalization"
   ]
  },
  {
   "cell_type": "code",
   "execution_count": null,
   "metadata": {},
   "outputs": [],
   "source": [
    "for subject in ${subjects_new}; do\n",
    "        subdir=\"${basedir}/subjects/${subject}/${funcdir}\"\n",
    "        featdir=\"${subdir}/feats\"\n",
    "        subVolInfo=`fslinfo ${subdir}/func_task_pp.nii.gz`\n",
    "        oneSubVols=`echo $subVolInfo | awk '{print $10}'` #Sometimes this is $10, othertimes $12 seemingly depending on the computer or dataset. Check below which one it is for this list of subs.\n",
    "            fslinfo ${subdir}/func_task_pp.nii.gz\n",
    "            echo $subVolInfo | awk '{print $10}'\n",
    "            echo $subVolInfo | awk '{print $12}'\n",
    "            echo $oneSubVols\n",
    "\n",
    "        ### Create feat for each subject\n",
    "        ztitle \"Creating Template Feat for ${oneSubVols} volumes\"\n",
    "        zcmd \"sed 's/zzz/${oneSubVols}/g' ${homedir}/DesignFiles/ICAaroma_6mm_4Dmeanintensity_Template_Vols.fsf > ${homedir}/DesignFiles/ICAaroma_6mm_4Dmeanintensity_${oneSubVols}_Vols.fsf\"\n",
    "\n",
    "        ### Run feat for each subject\n",
    "        ztitle \"Running Preprocessing FEAT for ${subject} with 6mm spatial smoothing and 4D mean intensity normalization\"\n",
    "        zcmd \"g_runFeats.sh -B ${basedir} -R ${funcdir} -T ${homedir}/DesignFiles/ICAaroma_6mm_4Dmeanintensity_${oneSubVols}_Vols.fsf -j xxxxxx -S ${subject}\"\n",
    "done"
   ]
  },
  {
   "cell_type": "markdown",
   "metadata": {},
   "source": [
    "____\n",
    "## This step is running in the background\n",
    "While it appears that the script finished in around 6 seconds, the FEAT is still running in the background for several hours (5.2 hrs for 1 subject on BMAP). See Log to know when finished:\n",
    "\n",
    "##### On BMAP:\n",
    "\n",
    "< /ifs/faculty/mirella/fmri/Prisma/subjects/***SUBJECT***/restingHCP/feats/ICAaroma_6mm_4Dmeanintensity.feat/report_log.html >\n",
    "\n",
    "##### Using OSXFUSE or similar, \n",
    "copy/paste into browser on your computer:\n",
    "\n",
    "< ***yourOSXFUSEmount***/subjects/***SUBJECT***/restingHCP/feats/ICAaroma_6mm_4Dmeanintensity.feat/report_log.html >\n",
    "\n",
    "< /Users/emilywood/Desktop/BMAP/Prisma/subjects/***SUBJECT***/restingHCP/feats/ICAaroma_6mm_4Dmeanintensity.feat/report_log.html >"
   ]
  },
  {
   "cell_type": "markdown",
   "metadata": {},
   "source": [
    "### 2c. Change permissions for all the FEATs you just ran"
   ]
  },
  {
   "cell_type": "code",
   "execution_count": null,
   "metadata": {},
   "outputs": [],
   "source": [
    "for subject in ${subjects_new}; do\n",
    "    zinfo \"Changing permissions for ${subject} for Preprocessing FEAT with 6mm spatial smoothing and 4D mean intensity normalization\"\n",
    "    cd ${basedir}/subjects/${subject}/${funcdir}/feats/ICAaroma_6mm_4Dmeanintensity.feat\n",
    "    chmod -R 777 *\n",
    "done"
   ]
  },
  {
   "cell_type": "markdown",
   "metadata": {},
   "source": [
    "### 2d. Check FEATs to make sure run through without errors"
   ]
  },
  {
   "cell_type": "code",
   "execution_count": null,
   "metadata": {},
   "outputs": [],
   "source": [
    "for subject in ${subjects_new}; do\n",
    "    /usr/local/anaconda2/bin/python2.7 ${scripts_dir}/checkFeatReports_FlexibleFunction.py ${subject} ${basedir} ${featdir_preprocess}\n",
    "done"
   ]
  },
  {
   "cell_type": "markdown",
   "metadata": {},
   "source": [
    "## 3. ICA-AROMA\n",
    "### 3a. ICA AROMA"
   ]
  },
  {
   "cell_type": "code",
   "execution_count": null,
   "metadata": {},
   "outputs": [],
   "source": [
    "for subject in ${subjects_new}; do\n",
    "    zinfo \"ICA AROMA time for ${subject}\"\n",
    "    subdir=\"${basedir}/subjects/${subject}/${funcdir}\"\n",
    "    featdir=\"${subdir}/feats\"\n",
    "    /usr/local/anaconda2/bin/python2.7 ${scripts_dir}/ICA_AROMA/ICA_AROMA.py -in ${featdir}/ICAaroma_6mm_4Dmeanintensity.feat/filtered_func_data.nii.gz -out ${subdir}/ICA_AROMA -mc ${subdir}/1_preprocess/mc/prefiltered_func_data_mcf.par -affmat ${subdir}/2_reg/example_func2standard.mat -m ${subdir}/func_example_bet_mask.nii.gz\n",
    "    cd ${subdir}/\n",
    "    chmod -R 777 *\n",
    "done"
   ]
  },
  {
   "cell_type": "markdown",
   "metadata": {},
   "source": [
    "### 3b. Copy and rename the denoised functional file for further processing "
   ]
  },
  {
   "cell_type": "code",
   "execution_count": null,
   "metadata": {},
   "outputs": [],
   "source": [
    "for subject in ${subjects_new}; do\n",
    "    zinfo \"Copying and renaming denoised func file for ${subject}\"\n",
    "    subdir=\"${basedir}/subjects/${subject}/${funcdir}\"\n",
    "    icadir=\"${basedir}/subjects/${subject}/${funcdir}/ICA_AROMA/\"\n",
    "    cp ${icadir}/denoised_func_data_nonaggr.nii.gz ${subdir}/func_task_pp_ICAaroma.nii.gz\n",
    "done"
   ]
  },
  {
   "cell_type": "markdown",
   "metadata": {},
   "source": [
    "## 4. Segment Brain\n",
    "### 4a. Create functional mask for subject"
   ]
  },
  {
   "cell_type": "code",
   "execution_count": null,
   "metadata": {},
   "outputs": [],
   "source": [
    "for subject in ${subjects_new}; do\n",
    "    subdir=\"${basedir}/subjects/${subject}/${funcdir}\"\t\t\n",
    "    ztitle \"Creating functional mask for ${subject}\"\n",
    "    zcmd \"fslmaths ${subdir}/func_task_pp_ICAaroma -Tmax -bin ${subdir}/func_mask\" \n",
    "    chmod 777 ${subdir}/func_mask.nii.gz\n",
    "done"
   ]
  },
  {
   "cell_type": "markdown",
   "metadata": {},
   "source": [
    "### 4b. Segment brain and register to functional space"
   ]
  },
  {
   "cell_type": "code",
   "execution_count": null,
   "metadata": {},
   "outputs": [],
   "source": [
    "for subject in ${subjects_new}; do\n",
    "    subdir=\"${basedir}/subjects/${subject}/${funcdir}\"\n",
    "    ztitle \"Segmenting ${subject}'s brain and registering to functional space\"\n",
    "    zinfo \"Segmenting brain for ${subject}\"\n",
    "    zcmd \"gfc_segment.sh -u 2 -f -B ${basedir} -A restingmeanfunc -R ${funcdir} -S ${subject}\"\n",
    "    cd ${subdir}/\n",
    "    chmod 777 *\n",
    "done"
   ]
  },
  {
   "cell_type": "markdown",
   "metadata": {},
   "source": [
    "## 5. Bandpass Filter"
   ]
  },
  {
   "cell_type": "code",
   "execution_count": null,
   "metadata": {},
   "outputs": [],
   "source": [
    "for subject in ${subjects_new}; do\n",
    "    subdir=\"${basedir}/subjects/${subject}/${funcdir}\"\n",
    "    zinfo \"Band Pass Temporal Filter preprocessed between 0.1Hz and .01 Hz for ${subject}\"\n",
    "    #Updated bptf command as of 9/2015 for newest version of FSL. \n",
    "    #MUST CHANGE BPTF IF TR CHANGES. There are conflicting formulas on the internet, but this appears to be the one we used for our own data: sigma[vol] = filter_width[secs]/(2*TR[secs]).\n",
    "    zcmd \"fslmaths ${subdir}/func_task_pp_ICAaroma.nii.gz -Tmean ${subdir}/func_task_pp_ICAaroma_mean.nii.gz\"\n",
    "    zcmd \"fslmaths ${subdir}/func_task_pp_ICAaroma.nii.gz -bptf 25 2.5 -add ${subdir}/func_task_pp_ICAaroma_mean.nii.gz ${subdir}/func_task_pp_ICAaroma_bptf.nii.gz\"\n",
    "    cd ${basedir}/subjects/${subject}/${funcdir}/\n",
    "    chmod 777 *\n",
    "done"
   ]
  },
  {
   "cell_type": "markdown",
   "metadata": {},
   "source": [
    "## 6. Create CSF, WM, Global Nuisance Regressors"
   ]
  },
  {
   "cell_type": "code",
   "execution_count": null,
   "metadata": {},
   "outputs": [],
   "source": [
    "for subject in ${subjects_new}; do\n",
    "    subdir=\"${basedir}/subjects/${subject}/${funcdir}\"\n",
    "    regdir=\"${subdir}/2_reg\"\n",
    "    featdir=\"${subdir}/feats\"\n",
    "    zinfo \"Create nuisance regressors for WM, CSF and global signal ${subject}\"\n",
    "    zcmd \"3dmaskave -mask ${subdir}/mask_csf.nii.gz -quiet ${subdir}/func_task_pp_ICAaroma_bptf.nii.gz > ${subdir}/csf_bptf.1D\"\n",
    "    zcmd \"3dmaskave -mask ${subdir}/mask_wm.nii.gz -quiet ${subdir}/func_task_pp_ICAaroma_bptf.nii.gz > ${subdir}/wm_bptf.1D\"\n",
    "    zcmd \"3dmaskave -mask ${subdir}/mask_global.nii.gz -quiet ${subdir}/func_task_pp_ICAaroma_bptf.nii.gz > ${subdir}/global_bptf.1D\"\n",
    "    cd ${subdir}/\n",
    "    chmod 777 *\n",
    "done"
   ]
  },
  {
   "cell_type": "markdown",
   "metadata": {},
   "source": [
    "## 7. Run FEAT to regress out tissue nuisance regressors\n",
    "### 7a. Run FEAT to regress out tissue nuisance regressors (no smoothing)"
   ]
  },
  {
   "cell_type": "code",
   "execution_count": null,
   "metadata": {},
   "outputs": [],
   "source": [
    "for option in ${options}; do\n",
    "for subject in ${subjects_new}; do\t\n",
    "        subdir=\"${basedir}/subjects/${subject}/${funcdir}\"\n",
    "        featdir=\"${subdir}/feats\"\t\n",
    "        subVolInfo=`fslinfo ${subdir}/func_task_pp_ICAaroma_bptf.nii.gz`\n",
    "        oneSubVols=`echo $subVolInfo | awk '{print $10}'` #Sometimes this is $10, othertimes $12 seemingly depending on the computer or dataset. Check below which one it is for this list of subs.\n",
    "            fslinfo ${subdir}/func_task_pp_bptf.nii.gz\n",
    "            echo $subVolInfo | awk '{print $10}'\n",
    "            echo $subVolInfo | awk '{print $12}'\n",
    "            echo $oneSubVols\n",
    "\n",
    "        ### Create feat for each subject \n",
    "        ztitle \"Creating Template Feat for ${oneSubVols} volumes\"\n",
    "        zcmd \"sed 's/zzz/${oneSubVols}/g' ${homedir}/DesignFiles/ICAaroma_${option}_tissueregress_Template_Vols.fsf > ${homedir}/DesignFiles/ICAaroma_${option}_tissueregress_${oneSubVols}_Vols.fsf\"\n",
    "\n",
    "        ### Run feat for each subject\n",
    "        ztitle \"Running FEAT for ${subject} for ${option} to regress nuisance regressors\"\n",
    "        zcmd \"g_runFeats.sh -B ${basedir} -R ${funcdir} -T ${homedir}/DesignFiles/ICAaroma_${option}_tissueregress_${oneSubVols}_Vols.fsf -j xxxxxx -S ${subject}\"\n",
    "done\n",
    "done"
   ]
  },
  {
   "cell_type": "markdown",
   "metadata": {},
   "source": [
    "### 7b. Change permissions for the FEATs you just ran"
   ]
  },
  {
   "cell_type": "code",
   "execution_count": null,
   "metadata": {},
   "outputs": [],
   "source": [
    "for option in ${options}; do\n",
    "for subject in ${subjects_new}; do\n",
    "    zinfo \"Changing permissions for ${subject} for ${global} for tissue regression FEAT\"\n",
    "    chmod -R 777 ${basedir}/subjects/${subject}/${funcdir}/feats/ICAaroma_${option}_tissueregress.feat\n",
    "done\n",
    "done"
   ]
  },
  {
   "cell_type": "markdown",
   "metadata": {},
   "source": [
    "### 7c. Check FEATs"
   ]
  },
  {
   "cell_type": "code",
   "execution_count": null,
   "metadata": {},
   "outputs": [],
   "source": [
    "for subject in ${subjects_new}; do\n",
    "    /usr/local/anaconda2/bin/python2.7 ${scripts_dir}/checkFeatReports_FlexibleFunction.py ${subject} ${basedir} ${featdir_tissueregress}\n",
    "done"
   ]
  },
  {
   "cell_type": "markdown",
   "metadata": {},
   "source": [
    "## 8. Normalize and register residuals"
   ]
  },
  {
   "cell_type": "code",
   "execution_count": null,
   "metadata": {},
   "outputs": [],
   "source": [
    "for option in ${options}; do\n",
    "    for subject in ${subjects_new}; do\n",
    "        subdir=\"${basedir}/subjects/${subject}/${funcdir}\"\n",
    "        regdir=\"${subdir}/2_reg\"\n",
    "        featdir=\"${subdir}/feats\"\n",
    "\n",
    "        ##### Normalize residuals\n",
    "        ztitle \"Normalize and register residuals for ${subject}\"\n",
    "        zinfo \"Normalize residuals for ${subject}\"\n",
    "        zcmd \"fslmaths ${basedir}/subjects/${subject}/${funcdir}/feats/ICAaroma_${option}_tissueregress.feat/stats/res4d.nii.gz -Tmean ${featdir}/ICAaroma_${option}_tissueregress.feat/stats/mean_res4d_tmp\"\n",
    "        zcmd \"fslmaths ${basedir}/subjects/${subject}/${funcdir}/feats/ICAaroma_${option}_tissueregress.feat/stats/res4d.nii.gz -Tstd ${featdir}/ICAaroma_${option}_tissueregress.feat/stats/std_res4d_tmp\"\n",
    "        zcmd \"fslmaths ${basedir}/subjects/${subject}/${funcdir}/feats/ICAaroma_${option}_tissueregress.feat/stats/res4d.nii.gz -sub ${featdir}/ICAaroma_${option}_tissueregress.feat/stats/mean_res4d_tmp -div ${featdir}/ICAaroma_${option}_tissueregress.feat/stats/std_res4d_tmp -add 100 -mas ${featdir}/ICAaroma_${option}_tissueregress.feat/mask.nii.gz ${featdir}/ICAaroma_${option}_tissueregress.feat/normres4d.nii.gz\"\n",
    "        zcmd \"rm ${featdir}/ICAaroma_${option}_tissueregress.feat/stats/*res4d_tmp*\"\n",
    "\n",
    "\n",
    "        ##### Register residuals and normalized residuals to standard space (assuming linear registration has been done)\n",
    "        zinfo \"Register residuals to standard space for ${subject}\"\n",
    "        zcmd \"flirt -in ${featdir}/ICAaroma_${option}_tissueregress.feat/stats/res4d -ref ${regdir}/standard -out ${featdir}/ICAaroma_${option}_tissueregress.feat/res4d2standard -applyxfm -init ${regdir}/example_func2standard.mat\"\t\t\n",
    "\n",
    "        zinfo \"Register normalized residuals to standard space for ${subject}\"\n",
    "        zcmd \"flirt -in ${featdir}/ICAaroma_${option}_tissueregress.feat/normres4d -ref ${regdir}/standard -out ${featdir}/ICAaroma_${option}_tissueregress.feat/normres4d2standard -applyxfm -init ${regdir}/example_func2standard.mat\"\n",
    "\n",
    "        ###Change permissions \n",
    "        zinfo \"Changing permissions for ${subject} for whole folder\"\n",
    "        chmod -R 777 ${subdir}/*\n",
    "\n",
    "    done\n",
    "done"
   ]
  },
  {
   "cell_type": "code",
   "execution_count": null,
   "metadata": {},
   "outputs": [],
   "source": []
  }
 ],
 "metadata": {
  "kernelspec": {
   "display_name": "Bash",
   "language": "bash",
   "name": "bash"
  },
  "language_info": {
   "codemirror_mode": "shell",
   "file_extension": ".sh",
   "mimetype": "text/x-sh",
   "name": "bash"
  }
 },
 "nbformat": 4,
 "nbformat_minor": 2
}
