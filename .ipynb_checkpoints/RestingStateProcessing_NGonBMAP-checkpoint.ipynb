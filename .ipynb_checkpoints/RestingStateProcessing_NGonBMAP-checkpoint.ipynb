{
 "cells": [
  {
   "cell_type": "markdown",
   "metadata": {},
   "source": [
    "# Resting State Processing - Neurogunther on BMAP\n",
    "\n",
    "Numbering of steps corresponds to Kathy's scripts.\n",
    "\n",
    "There are different design steps. The preprocessing FEAT (step 2b) does 6mm spatial smoothing "
   ]
  },
  {
   "cell_type": "code",
   "execution_count": 1,
   "metadata": {},
   "outputs": [],
   "source": [
    "source \"$GUNTHERDIR/include/Asourceall.sh\""
   ]
  },
  {
   "cell_type": "markdown",
   "metadata": {},
   "source": [
    "### Directories and File Names"
   ]
  },
  {
   "cell_type": "code",
   "execution_count": 2,
   "metadata": {},
   "outputs": [],
   "source": [
    "rawdirs=\"RFMRI_REST_AP_7 RFMRI_REST_AP_8 RFMRI_REST_AP_9 RFMRI_REST_AP_10 RFMRI_REST_AP_11 RFMRI_REST_AP_12\"\n",
    "    # Possible names of the raw resting state data. Differences due to scanner collection order, ect.\n",
    "basedir=\"/ifs/faculty/mirella/fmri/Prisma\"\n",
    "\n",
    "homedir=\"/ifs/faculty/mirella/fmri/Prisma/RestingStateAnalysis\"\n",
    "\n",
    "funcdir=\"restingHCP\"\n",
    "    # Directory where resting state analysis will be put in each subject directory\n",
    "featdir_preprocess=\"${funcdir}/feats/ICAaroma_6mm_4Dmeanintensity.feat\"\n",
    "\n",
    "featdir_tissueregress=\"${funcdir}/feats/ICAaroma_global_tissueregress.feat\"\n",
    "\n",
    "options=\"global\"\n",
    "\n",
    "scriptdir=\"/ifs/faculty/mirella/fmri/Prisma/RestingStateAnalysis/Scripts\"\n"
   ]
  },
  {
   "cell_type": "markdown",
   "metadata": {},
   "source": [
    "### Subjects"
   ]
  },
  {
   "cell_type": "code",
   "execution_count": 10,
   "metadata": {},
   "outputs": [],
   "source": [
    "subjects_new=\"TD140_ETW\"\n",
    "#subjects_restingmeanfunc=\"TD140_ETW\""
   ]
  },
  {
   "cell_type": "code",
   "execution_count": null,
   "metadata": {},
   "outputs": [],
   "source": [
    "start=$(date +%s.%N)\n",
    "\n",
    "# HERE BE CODE\n",
    "\n",
    "end=$(date +%s.%N)    \n",
    "runtime=$(python -c \"print(${end} - ${start})\")\n",
    "\n",
    "echo \"Runtime was $runtime\""
   ]
  },
  {
   "cell_type": "markdown",
   "metadata": {},
   "source": [
    "## 1. Preprocess and Register Data\n",
    "### 1a. Bring Subject Data Over From Scanner--this is typically done by SRAs well in advance of analysis\n",
    "### 1b. Check for raw resting data and copy into its only processing directory (funcdir)"
   ]
  },
  {
   "cell_type": "code",
   "execution_count": 15,
   "metadata": {},
   "outputs": [
    {
     "name": "stdout",
     "output_type": "stream",
     "text": [
      "\u001b[0;24;36;49mTD140_ETW: Copying raw.nii.gz from raw to new restingHCP folder\u001b[0m\n"
     ]
    }
   ],
   "source": [
    "#Look through two naming options and counts if there are multiple resting-state scans within the raw folder.\n",
    "for subject in ${subjects_new}; do\n",
    "    for raw in ${rawdirs}; do \n",
    "        counterVar=0\n",
    "        for item in ${basedir}/subjects/${subject}/raw/${raw}; do\n",
    "            counterVar=$(( ${counterVar}+1 ))\n",
    "            #echo \"${item}\"\n",
    "        done\n",
    "        if (( ${counterVar}>1 )); then\n",
    "            echo \"Check ${subject} because ${counterVar} raw resting-state files exist.\"\n",
    "            #echo ${basedir}/subjects/${subject}/raw/${raw} #Can echo the file names if you so wish\n",
    "        fi\n",
    "\n",
    "#If subject only has one raw resting-state scan, and there isn't already a raw in the named resting-state folder, then copy their raw scan to the subjects resting-state folder\n",
    "        if [ ${counterVar} -eq 1 ]; then\n",
    "            if [ -d ${basedir}/subjects/${subject}/raw/${raw} ]; then #Copy from raw folder only if it exists\n",
    "                if [ ! -f ${basedir}/subjects/${subject}/${funcdir}/raw.nii.gz ]; then #Copy to new folder only if there's not already a raw in that folder\n",
    "                    zinfo \"${subject}: Copying raw.nii.gz from raw to new ${funcdir} folder\"\n",
    "                    mkdir ${basedir}/subjects/${subject}/${funcdir}\n",
    "                    cp ${basedir}/subjects/${subject}/raw/${raw}/* ${basedir}/subjects/${subject}/${funcdir}/raw.nii.gz\n",
    "                    chmod -R 777 ${basedir}/subjects/${subject}/${funcdir}/\n",
    "                fi\n",
    "            fi\n",
    "        fi\n",
    "    done\n",
    "done"
   ]
  },
  {
   "cell_type": "code",
   "execution_count": 16,
   "metadata": {},
   "outputs": [
    {
     "name": "stdout",
     "output_type": "stream",
     "text": [
      "data_type UINT16 dim1 104 dim2 104 dim3 72 dim4 667 datatype 512 pixdim1 2.000000 pixdim2 2.000000 pixdim3 2.000000 pixdim4 0.720000 cal_max 0.0000 cal_min 0.0000 file_type NIFTI-1+\n",
      "667\n",
      "TD140_ETW: Scan was neither 6 nor 8 minutes, was instead 667 volumes. Ignoring subject\n"
     ]
    }
   ],
   "source": [
    "for subject in ${subjects_new}; do\n",
    "    subdir=\"${basedir}/subjects/${subject}/${funcdir}\"\n",
    "    #Get info of number of vols in raw scan\n",
    "    subVolInfo=`fslinfo ${subdir}/raw.nii.gz`\n",
    "    echo $subVolInfo\n",
    "    subVolInfoNum=`echo ${subVolInfo} | awk '{print $10}'` #Sometimes this is $10, othertimes $12 seemingly depending on the computer or dataset\n",
    "    echo $subVolInfoNum\n",
    "    #Check raw scan length and act accordingly\n",
    "    if [ ${subVolInfoNum} -eq 240 ]; then\n",
    "        echo ${subject}': 8 minute scan, creating 6 minute version'\n",
    "        cp ${basedir}/subjects/${subject}/${funcdir}/raw.nii.gz ${subdir}/raw_fullVolVersion.nii.gz\n",
    "        fslroi ${subdir}/raw_fullVolVersion.nii.gz ${subdir}/raw.nii.gz 0 165\t\n",
    "    elif [ ${subVolInfoNum} -eq 165 ]; then\n",
    "        echo ${subject}': 6 minute scan, ignoring subject'\n",
    "    else\n",
    "        echo ${subject}': Scan was neither 6 nor 8 minutes, was instead '${subVolInfoNum} 'volumes. Ignoring subject'\n",
    "    fi\n",
    "\n",
    "done"
   ]
  },
  {
   "cell_type": "markdown",
   "metadata": {},
   "source": [
    "### 1c. Preprocessing "
   ]
  },
  {
   "cell_type": "code",
   "execution_count": 20,
   "metadata": {},
   "outputs": [
    {
     "name": "stdout",
     "output_type": "stream",
     "text": [
      "\u001b[0;24;32;49mX: g_preprocessFunc_fslBET.sh -B /ifs/faculty/mirella/fmri/Prisma -R restingHCP -S TD140_ETW\u001b[0m\n",
      "\u001b[0;24;37;44mExecuting: '/ifs/faculty/mirella/neurogunther/g_preprocessFunc_fslBET.sh -B /ifs/faculty/mirella/fmri/Prisma -R restingHCP -S TD140_ETW'\u001b[0m\n",
      "\u001b[0;24;36;49mreading list of subjects given by user\u001b[0m\n",
      "\u001b[0;24;36;49mRunning subjects: TD140_ETW\u001b[0m\n",
      "\n",
      "\n",
      "\u001b[0;24;37;44mRunning TD140_ETW\u001b[0m\n",
      "\u001b[0;24;32;49mX: mkdir /ifs/faculty/mirella/fmri/Prisma/subjects/TD140_ETW/restingHCP/1_preprocess 2> /dev/null; echo -n ''\u001b[0m\n",
      "\u001b[0;24;32;49mX: cd /ifs/faculty/mirella/fmri/Prisma/subjects/TD140_ETW/restingHCP/1_preprocess\u001b[0m\n",
      "\u001b[0;24;36;49mNot timeshifting\u001b[0m\n",
      "\u001b[0;24;32;49mX: fslmaths /ifs/faculty/mirella/fmri/Prisma/subjects/TD140_ETW/restingHCP/raw.nii.gz /ifs/faculty/mirella/fmri/Prisma/subjects/TD140_ETW/restingHCP/1_preprocess/1_func_ts.nii.gz\u001b[0m\n",
      "\u001b[0;24;36;49mDeobliquing\u001b[0m\n",
      "\u001b[0;24;32;49mX: 3drefit -deoblique /ifs/faculty/mirella/fmri/Prisma/subjects/TD140_ETW/restingHCP/1_preprocess/1_func_ts.nii.gz\u001b[0m\n",
      "++ 3drefit: AFNI version=AFNI_16.0.00 (Jan  1 2016) [64-bit]\n",
      "++ Authored by: RW Cox\n",
      "++ Processing AFNI dataset /ifs/faculty/mirella/fmri/Prisma/subjects/TD140_ETW/restingHCP/1_preprocess/1_func_ts.nii.gz\n",
      " + loading and re-writing dataset /ifs/faculty/mirella/fmri/Prisma/subjects/TD140_ETW/restingHCP/1_preprocess/1_func_ts.nii.gz (/ifs/faculty/mirella/fmri/Prisma/subjects/TD140_ETW/restingHCP/1_preprocess/1_func_ts.nii.gz in NIFTI storage)\n",
      "++ 3drefit processed 1 datasets\n",
      "\u001b[0;24;36;49mReorienting to RPI\u001b[0m\n",
      "\u001b[0;24;32;49mX: 3dresample -orient RPI -inset /ifs/faculty/mirella/fmri/Prisma/subjects/TD140_ETW/restingHCP/1_preprocess/1_func_ts.nii.gz -prefix /ifs/faculty/mirella/fmri/Prisma/subjects/TD140_ETW/restingHCP/1_preprocess/2_func_ro.nii.gz\u001b[0m\n",
      "\u001b[0;24;36;49mGet mean functional image (for motion correction)\u001b[0m\n",
      "\u001b[0;24;32;49mX: 3dTstat -mean -prefix /ifs/faculty/mirella/fmri/Prisma/subjects/TD140_ETW/restingHCP/1_preprocess/3a_func_mean.nii.gz /ifs/faculty/mirella/fmri/Prisma/subjects/TD140_ETW/restingHCP/1_preprocess/2_func_ro.nii.gz\u001b[0m\n",
      "++ 3dTstat: AFNI version=AFNI_16.0.00 (Jan  1 2016) [64-bit]\n",
      "++ Authored by: KR Hammett & RW Cox\n",
      "++ Output dataset /ifs/faculty/mirella/fmri/Prisma/subjects/TD140_ETW/restingHCP/1_preprocess/3a_func_mean.nii.gz\n",
      "\u001b[0;24;36;49mMotion correction\u001b[0m\n",
      "\u001b[0;24;32;49mX: mcflirt -in /ifs/faculty/mirella/fmri/Prisma/subjects/TD140_ETW/restingHCP/1_preprocess/2_func_ro -out /ifs/faculty/mirella/fmri/Prisma/subjects/TD140_ETW/restingHCP/1_preprocess/prefiltered_func_data_mcf -reffile /ifs/faculty/mirella/fmri/Prisma/subjects/TD140_ETW/restingHCP/1_preprocess/3a_func_mean.nii.gz -mats -plots -rmsrel -rmsabs -stages 4 -sinc_final\u001b[0m\n",
      "\u001b[0;24;32;49mX: mv /ifs/faculty/mirella/fmri/Prisma/subjects/TD140_ETW/restingHCP/1_preprocess/prefiltered_func_data_mcf.nii.gz /ifs/faculty/mirella/fmri/Prisma/subjects/TD140_ETW/restingHCP/1_preprocess/3_func_mc.nii.gz\u001b[0m\n",
      "\u001b[0;24;32;49mX: cp /ifs/faculty/mirella/fmri/Prisma/subjects/TD140_ETW/restingHCP/1_preprocess/prefiltered_func_data_mcf.par /ifs/faculty/mirella/fmri/Prisma/subjects/TD140_ETW/restingHCP/func_mc.1D\u001b[0m\n",
      "\u001b[0;24;36;49mSetting up motion covariates in seperate files\u001b[0m\n",
      "\u001b[0;24;32;49mX: awk '{print $1}' /ifs/faculty/mirella/fmri/Prisma/subjects/TD140_ETW/restingHCP/func_mc.1D > /ifs/faculty/mirella/fmri/Prisma/subjects/TD140_ETW/restingHCP/mc1.1D\u001b[0m\n",
      "\u001b[0;24;32;49mX: awk '{print $2}' /ifs/faculty/mirella/fmri/Prisma/subjects/TD140_ETW/restingHCP/func_mc.1D > /ifs/faculty/mirella/fmri/Prisma/subjects/TD140_ETW/restingHCP/mc2.1D\u001b[0m\n",
      "\u001b[0;24;32;49mX: awk '{print $3}' /ifs/faculty/mirella/fmri/Prisma/subjects/TD140_ETW/restingHCP/func_mc.1D > /ifs/faculty/mirella/fmri/Prisma/subjects/TD140_ETW/restingHCP/mc3.1D\u001b[0m\n",
      "\u001b[0;24;32;49mX: awk '{print $4}' /ifs/faculty/mirella/fmri/Prisma/subjects/TD140_ETW/restingHCP/func_mc.1D > /ifs/faculty/mirella/fmri/Prisma/subjects/TD140_ETW/restingHCP/mc4.1D\u001b[0m\n",
      "\u001b[0;24;32;49mX: awk '{print $5}' /ifs/faculty/mirella/fmri/Prisma/subjects/TD140_ETW/restingHCP/func_mc.1D > /ifs/faculty/mirella/fmri/Prisma/subjects/TD140_ETW/restingHCP/mc5.1D\u001b[0m\n",
      "\u001b[0;24;32;49mX: awk '{print $6}' /ifs/faculty/mirella/fmri/Prisma/subjects/TD140_ETW/restingHCP/func_mc.1D > /ifs/faculty/mirella/fmri/Prisma/subjects/TD140_ETW/restingHCP/mc6.1D\u001b[0m\n",
      "\u001b[0;24;36;49mCopying over other motion info into seperate directory '/ifs/faculty/mirella/fmri/Prisma/subjects/TD140_ETW/restingHCP/1_preprocess/mc'\u001b[0m\n",
      "\u001b[0;24;32;49mX: mkdir /ifs/faculty/mirella/fmri/Prisma/subjects/TD140_ETW/restingHCP/1_preprocess/mc\u001b[0m\n",
      "\u001b[0;24;32;49mX: mv /ifs/faculty/mirella/fmri/Prisma/subjects/TD140_ETW/restingHCP/1_preprocess/prefiltered_func_data_mcf* /ifs/faculty/mirella/fmri/Prisma/subjects/TD140_ETW/restingHCP/1_preprocess/mc\u001b[0m\n",
      "\u001b[0;24;36;49mCreating pretty motion parameter pictures\u001b[0m\n",
      "\u001b[0;24;32;49mX: fsl_tsplot -i /ifs/faculty/mirella/fmri/Prisma/subjects/TD140_ETW/restingHCP/func_mc.1D -t 'MCFLIRT estimated rotations (radians)' -u 1 --start=1 --finish=3 -a x,y,z -w 640 -h 144 -o /ifs/faculty/mirella/fmri/Prisma/subjects/TD140_ETW/restingHCP/1_preprocess/mc/rot.png\u001b[0m\n",
      "\u001b[0;24;32;49mX: fsl_tsplot -i /ifs/faculty/mirella/fmri/Prisma/subjects/TD140_ETW/restingHCP/func_mc.1D -t 'MCFLIRT estimated translations (mm)' -u 1 --start=4 --finish=6 -a x,y,z -w 640 -h 144 -o /ifs/faculty/mirella/fmri/Prisma/subjects/TD140_ETW/restingHCP/1_preprocess/mc/trans.png\u001b[0m\n",
      "\u001b[0;24;32;49mX: fsl_tsplot -i /ifs/faculty/mirella/fmri/Prisma/subjects/TD140_ETW/restingHCP/1_preprocess/mc/prefiltered_func_data_mcf_abs.rms,/ifs/faculty/mirella/fmri/Prisma/subjects/TD140_ETW/restingHCP/1_preprocess/mc/prefiltered_func_data_mcf_rel.rms -t 'MCFLIRT mean displacement (mm)' -u 1 -a absolute,relative -w 640 -h 144 -o /ifs/faculty/mirella/fmri/Prisma/subjects/TD140_ETW/restingHCP/1_preprocess/mc/disp.png\u001b[0m\n",
      "\u001b[0;24;32;49mX: mkdir -p /ifs/faculty/mirella/fmri/Prisma/subjects/TD140_ETW/restingHCP/0_checks/1_preprocess 2> /dev/null; echo -n ''\u001b[0m\n",
      "\u001b[0;24;32;49mX: ln -s /ifs/faculty/mirella/fmri/Prisma/subjects/TD140_ETW/restingHCP/1_preprocess/mc/*png /ifs/faculty/mirella/fmri/Prisma/subjects/TD140_ETW/restingHCP/0_checks/1_preprocess\u001b[0m\n",
      "\u001b[0;24;36;49mSkull Strip\u001b[0m\n",
      "\u001b[0;24;32;49mX: bet /ifs/faculty/mirella/fmri/Prisma/subjects/TD140_ETW/restingHCP/1_preprocess/3_func_mc.nii.gz /ifs/faculty/mirella/fmri/Prisma/subjects/TD140_ETW/restingHCP/1_preprocess/4_func_st.nii.gz -F\u001b[0m\n",
      "\u001b[0;24;36;49mGet example func in this case the second image (used later for registration)\u001b[0m\n",
      "\u001b[0;24;32;49mX: fslroi /ifs/faculty/mirella/fmri/Prisma/subjects/TD140_ETW/restingHCP/1_preprocess/4_func_st.nii.gz /ifs/faculty/mirella/fmri/Prisma/subjects/TD140_ETW/restingHCP/func_example.nii.gz 1 1\u001b[0m\n",
      "\u001b[0;24;36;49mWe are all done!\u001b[0m\n",
      "\u001b[0;24;32;49mX: fslmaths /ifs/faculty/mirella/fmri/Prisma/subjects/TD140_ETW/restingHCP/1_preprocess/4_func_st.nii.gz /ifs/faculty/mirella/fmri/Prisma/subjects/TD140_ETW/restingHCP/func_task_pp.nii.gz\u001b[0m\n",
      "\n",
      "\n",
      "\u001b[0;24;30;42mYou did not have any errors/warnings...great job good-looking. Time for a beer!\u001b[0m\n",
      "Runtime was 7810.348361253738\n"
     ]
    }
   ],
   "source": [
    "start=$(date +%s.%N)\n",
    "\n",
    "for subject in ${subjects_new}; do\n",
    "    if [ -f ${basedir}/subjects/${subject}/${funcdir}/func_task_pp.nii.gz ]; then\n",
    "        echo \"${subject}: Already had the func_task_pp.nii.gz file. Skipping step.\"\n",
    "    else #Only run the preprocessing script if the func_task_pp file doesn't already exist (i.e. the script hasn't been run yet)\n",
    "        zcmd \"g_preprocessFunc_fslBET.sh -B ${basedir} -R ${funcdir} -S ${subject}\"\n",
    "    fi\n",
    "done\n",
    "\n",
    "end=$(date +%s.%N)    \n",
    "runtime=$(python -c \"print(${end} - ${start})\")\n",
    "\n",
    "echo \"Runtime was $runtime\""
   ]
  },
  {
   "cell_type": "markdown",
   "metadata": {},
   "source": [
    "____\n",
    "<span style=\"font-family:courier;\">Runtime for 1 subject on BMAP was 7810 sec = 2.17 hours</span>"
   ]
  },
  {
   "cell_type": "markdown",
   "metadata": {},
   "source": [
    "### 1c. Create mean functional image for registration (restingmeanfunc)"
   ]
  },
  {
   "cell_type": "code",
   "execution_count": 23,
   "metadata": {},
   "outputs": [
    {
     "name": "stdout",
     "output_type": "stream",
     "text": [
      "\u001b[0;24;32;49mX: cd /ifs/faculty/mirella/fmri/Prisma/subjects/TD140_ETW/restingHCP\u001b[0m\n",
      "\u001b[0;24;32;49mX: fslmaths raw.nii.gz -Tmean restingmeanfunc\u001b[0m\n",
      "\u001b[0;24;32;49mX: fslmaths restingmeanfunc.nii.gz restingmeanfuncshort.nii.gz -odt short\u001b[0m\n",
      "\u001b[0;24;32;49mX: chmod 777 restingmeanfuncshort.nii.gz\u001b[0m\n",
      "\u001b[0;24;32;49mX: cd /ifs/faculty/mirella/fmri/Prisma/subjects/TD140_ETW/\u001b[0m\n",
      "\u001b[0;24;32;49mX: mkdir -m 777 restingmeanfunc\u001b[0m\n",
      "\u001b[0;24;32;49mX: cp -r /ifs/faculty/mirella/fmri/Prisma/subjects/TD140_ETW/restingHCP/restingmeanfuncshort.nii.gz /ifs/faculty/mirella/fmri/Prisma/subjects/TD140_ETW/restingmeanfunc/\u001b[0m\n",
      "\u001b[0;24;32;49mX: mv /ifs/faculty/mirella/fmri/Prisma/subjects/TD140_ETW/restingmeanfunc/restingmeanfuncshort.nii.gz /ifs/faculty/mirella/fmri/Prisma/subjects/TD140_ETW/restingmeanfunc/raw.nii.gz\u001b[0m\n",
      "\u001b[0;24;32;49mX: g_preprocessAnat.sh -B /ifs/faculty/mirella/fmri/Prisma -A restingmeanfunc -S TD140_ETW\u001b[0m\n",
      "\u001b[0;24;37;44mExecuting: '/ifs/faculty/mirella/neurogunther/g_preprocessAnat.sh -B /ifs/faculty/mirella/fmri/Prisma -A restingmeanfunc -S TD140_ETW'\u001b[0m\n",
      "\u001b[0;24;36;49mreading list of subjects given by user\u001b[0m\n",
      "\u001b[0;24;36;49mRunning subjects: TD140_ETW\u001b[0m\n",
      "\n",
      "\n",
      "\u001b[0;24;37;44mRunning TD140_ETW\u001b[0m\n",
      "\u001b[0;24;32;49mX: cd /ifs/faculty/mirella/fmri/Prisma/subjects/TD140_ETW/restingmeanfunc\u001b[0m\n",
      "\u001b[0;24;36;49mdeobliquing anatomical\u001b[0m\n",
      "\u001b[0;24;32;49mX: 3dcopy /ifs/faculty/mirella/fmri/Prisma/subjects/TD140_ETW/restingmeanfunc/raw.nii.gz tmp_anat_do.nii.gz\u001b[0m\n",
      "++ 3dcopy: AFNI version=AFNI_16.0.00 (Jan  1 2016) [64-bit]\n",
      "\u001b[0;24;32;49mX: 3drefit -deoblique tmp_anat_do.nii.gz\u001b[0m\n",
      "++ 3drefit: AFNI version=AFNI_16.0.00 (Jan  1 2016) [64-bit]\n",
      "++ Authored by: RW Cox\n",
      "++ Processing AFNI dataset tmp_anat_do.nii.gz\n",
      " + loading and re-writing dataset tmp_anat_do.nii.gz (./tmp_anat_do.nii.gz in NIFTI storage)\n",
      "++ 3drefit processed 1 datasets\n",
      "\u001b[0;24;36;49mreorienting anatomical\u001b[0m\n",
      "\u001b[0;24;32;49mX: 3dresample -orient RPI -inset tmp_anat_do.nii.gz -prefix /ifs/faculty/mirella/fmri/Prisma/subjects/TD140_ETW/restingmeanfunc/head.nii.gz\u001b[0m\n",
      "\u001b[0;24;36;49mskull stripping anatomical\u001b[0m\n",
      "\u001b[0;24;32;49mX: 3dSkullStrip -input /ifs/faculty/mirella/fmri/Prisma/subjects/TD140_ETW/restingmeanfunc/head.nii.gz -o_ply tmp_anat_surf.nii.gz\u001b[0m\n",
      "The intensity in the output dataset is a modified version\n",
      "of the intensity in the input volume.\n",
      "To obtain a masked version of the input with identical values inside\n",
      "the brain, you can either use 3dSkullStrip's -orig_vol option\n",
      "or run the following command:\n",
      "  3dcalc -a /ifs/faculty/mirella/fmri/Prisma/subjects/TD140_ETW/restingmeanfunc/head.nii.gz -b ./tmp_anat_surf.nii.gz+orig -expr 'a*step(b)' \\\n",
      "         -prefix ./tmp_anat_surf.nii.gz_orig_vol\n",
      "to generate a new masked version of the input.\n",
      "\u001b[0;24;32;49mX: 3dcalc -a /ifs/faculty/mirella/fmri/Prisma/subjects/TD140_ETW/restingmeanfunc/head.nii.gz -b tmp_anat_surf.nii.gz -expr 'a*step(b)' -prefix /ifs/faculty/mirella/fmri/Prisma/subjects/TD140_ETW/restingmeanfunc/brain.nii.gz\u001b[0m\n",
      "++ 3dcalc: AFNI version=AFNI_16.0.00 (Jan  1 2016) [64-bit]\n",
      "++ Authored by: A cast of thousands\n",
      "++ Output dataset /ifs/faculty/mirella/fmri/Prisma/subjects/TD140_ETW/restingmeanfunc/brain.nii.gz\n",
      "\u001b[0;24;36;49mtaking pretty pictures of head\u001b[0m\n",
      "\u001b[0;24;32;49mX: mkdir /ifs/faculty/mirella/fmri/Prisma/subjects/TD140_ETW/restingmeanfunc/0_checks 2> /dev/null; echo -n ''\u001b[0m\n",
      "\u001b[0;24;32;49mX: slicer /ifs/faculty/mirella/fmri/Prisma/subjects/TD140_ETW/restingmeanfunc/head.nii.gz -S 10 1200 /ifs/faculty/mirella/fmri/Prisma/subjects/TD140_ETW/restingmeanfunc/0_checks/head.png\u001b[0m\n",
      "\u001b[0;24;36;49moverlaying mask on head and taking pretty pictures\u001b[0m\n",
      "\u001b[0;24;32;49mX: overlay 1 1 /ifs/faculty/mirella/fmri/Prisma/subjects/TD140_ETW/restingmeanfunc/head.nii.gz -a tmp_anat_surf.nii.gz 1 1 /ifs/faculty/mirella/fmri/Prisma/subjects/TD140_ETW/restingmeanfunc/0_checks/rendered_mask\u001b[0m\n",
      "\u001b[0;24;32;49mX: slicer /ifs/faculty/mirella/fmri/Prisma/subjects/TD140_ETW/restingmeanfunc/0_checks/rendered_mask -S 10 1200 /ifs/faculty/mirella/fmri/Prisma/subjects/TD140_ETW/restingmeanfunc/0_checks/skull_strip.png\u001b[0m\n",
      "\n",
      "\n",
      "\u001b[0;24;30;42mYou did not have any errors/warnings...great job good-looking. Time for a beer!\u001b[0m\n",
      "Runtime was 150.37920880317688\n"
     ]
    }
   ],
   "source": [
    "start=$(date +%s.%N)\n",
    "\n",
    "\n",
    "for subject in ${subjects_new}; do\n",
    "    if [ ! -f ${basedir}/subjects/${subject}/anat_hires/brain.nii.gz ]; then #Only run preprocessing script if it seems it hasn't been run before\n",
    "        zcmd \"cd ${basedir}/subjects/${subject}/restingHCP\"\n",
    "        zcmd \"fslmaths raw.nii.gz -Tmean restingmeanfunc\"\n",
    "        zcmd \"fslmaths restingmeanfunc.nii.gz restingmeanfuncshort.nii.gz -odt short\"\n",
    "        zcmd \"chmod 777 restingmeanfuncshort.nii.gz\"\n",
    "        zcmd \"cd ${basedir}/subjects/${subject}/\"\n",
    "        zcmd \"mkdir -m 777 restingmeanfunc\"\n",
    "        zcmd \"cp -r ${basedir}/subjects/${subject}/restingHCP/restingmeanfuncshort.nii.gz ${basedir}/subjects/${subject}/restingmeanfunc/\"\n",
    "        zcmd \"mv ${basedir}/subjects/${subject}/restingmeanfunc/restingmeanfuncshort.nii.gz ${basedir}/subjects/${subject}/restingmeanfunc/raw.nii.gz\"\n",
    "        zcmd \"g_preprocessAnat.sh -B ${basedir} -A restingmeanfunc -S ${subject}\"\n",
    "    fi\n",
    "done\n",
    "\n",
    "end=$(date +%s.%N)    \n",
    "runtime=$(python -c \"print(${end} - ${start})\")\n",
    "\n",
    "echo \"Runtime was $runtime\""
   ]
  },
  {
   "cell_type": "markdown",
   "metadata": {},
   "source": [
    "____\n",
    "<span style=\"font-family:courier;\">Runtime for 1 subject on BMAP was 150 sec = 2.5 min</span>"
   ]
  },
  {
   "cell_type": "markdown",
   "metadata": {},
   "source": [
    "### 1d. Register all volumes to Mean Resting State Image (restingmeanfunc)"
   ]
  },
  {
   "cell_type": "code",
   "execution_count": 25,
   "metadata": {},
   "outputs": [
    {
     "name": "stdout",
     "output_type": "stream",
     "text": [
      "\u001b[0;24;32;49mX: g_regFunc.sh -B /ifs/faculty/mirella/fmri/Prisma -A restingmeanfunc -R restingHCP -S TD140_ETW\u001b[0m\n",
      "\u001b[0;24;37;44mExecuting: '/ifs/faculty/mirella/neurogunther/g_regFunc.sh -B /ifs/faculty/mirella/fmri/Prisma -A restingmeanfunc -R restingHCP -S TD140_ETW'\u001b[0m\n",
      "\u001b[0;24;36;49mreading list of subjects given by user\u001b[0m\n",
      "\u001b[0;24;36;49mRunning subjects: TD140_ETW\u001b[0m\n",
      "\n",
      "\n",
      "\u001b[0;24;37;44mRunning TD140_ETW\u001b[0m\n",
      "\u001b[0;24;32;49mX: cd /ifs/faculty/mirella/fmri/Prisma/subjects/TD140_ETW/restingHCP\u001b[0m\n",
      "\u001b[0;24;32;49mX: mkdir /ifs/faculty/mirella/fmri/Prisma/subjects/TD140_ETW/restingHCP/2_reg 2> /dev/null; echo -n ''\u001b[0m\n",
      "\u001b[0;24;32;49mX: cd /ifs/faculty/mirella/fmri/Prisma/subjects/TD140_ETW/restingHCP/2_reg\u001b[0m\n",
      "\u001b[0;24;36;49mCopying over files\u001b[0m\n",
      "\u001b[0;24;32;49mX: fslmaths /ifs/faculty/mirella/fmri/Prisma/subjects/TD140_ETW/restingmeanfunc/brain.nii.gz highres\u001b[0m\n",
      "\u001b[0;24;32;49mX: fslmaths /usr/local/fsl/data/standard/MNI152_T1_2mm_brain.nii.gz standard\u001b[0m\n",
      "\u001b[0;24;32;49mX: fslmaths /ifs/faculty/mirella/fmri/Prisma/subjects/TD140_ETW/restingHCP/func_example.nii.gz example_func\u001b[0m\n",
      "\u001b[0;24;36;49mRegister Func to T1\u001b[0m\n",
      "\u001b[0;24;32;49mX: flirt -ref highres -in example_func -out example_func2highres_1 -omat example_func2highres_1.mat -cost corratio -searchcost corratio -dof 6 -searchrx -90 90 -searchry -90 90 -searchrz -90 90 -interp sinc\u001b[0m\n",
      "\u001b[0;24;32;49mX: flirt -ref highres -in example_func -out example_func2highres -omat example_func2highres.mat -cost normmi -searchcost normmi -dof 6 -searchrx -90 90 -searchry -90 90 -searchrz -90 90 -interp sinc -init example_func2highres_1.mat\u001b[0m\n",
      "\u001b[0;24;32;49mX: convert_xfm -inverse -omat highres2example_func.mat example_func2highres.mat\u001b[0m\n",
      "\u001b[0;24;32;49mX: slicer example_func2highres highres -s 2 -x 0.35 sla.png -x 0.45 slb.png -x 0.55 slc.png -x 0.65 sld.png -y 0.35 sle.png -y 0.45 slf.png -y 0.55 slg.png -y 0.65 slh.png -z 0.35 sli.png -z 0.45 slj.png -z 0.55 slk.png -z 0.65 sll.png\u001b[0m\n",
      "\u001b[0;24;32;49mX: pngappend sla.png + slb.png + slc.png + sld.png + sle.png + slf.png + slg.png + slh.png + sli.png + slj.png + slk.png + sll.png example_func2highres1.png\u001b[0m\n",
      "\u001b[0;24;32;49mX: slicer highres example_func2highres -s 2 -x 0.35 sla.png -x 0.45 slb.png -x 0.55 slc.png -x 0.65 sld.png -y 0.35 sle.png -y 0.45 slf.png -y 0.55 slg.png -y 0.65 slh.png -z 0.35 sli.png -z 0.45 slj.png -z 0.55 slk.png -z 0.65 sll.png\u001b[0m\n",
      "\u001b[0;24;32;49mX: pngappend sla.png + slb.png + slc.png + sld.png + sle.png + slf.png + slg.png + slh.png + sli.png + slj.png + slk.png + sll.png example_func2highres2.png\u001b[0m\n",
      "\u001b[0;24;32;49mX: pngappend example_func2highres1.png - example_func2highres2.png example_func2highres.png\u001b[0m\n",
      "\u001b[0;24;32;49mX: rm -f sl?.png example_func2highres1.png example_func2highres2.png\u001b[0m\n",
      "\u001b[0;24;36;49mRegister T1 to Standard\u001b[0m\n",
      "\u001b[0;24;32;49mX: flirt -ref standard -in highres -out highres2standard -omat highres2standard.mat -cost corratio -searchcost corratio -dof 12 -searchrx -90 90 -searchry -90 90 -searchrz -90 90 -interp sinc\u001b[0m\n",
      "\u001b[0;24;32;49mX: convert_xfm -inverse -omat standard2highres.mat highres2standard.mat\u001b[0m\n",
      "\u001b[0;24;32;49mX: slicer highres2standard standard -s 2 -x 0.35 sla.png -x 0.45 slb.png -x 0.55 slc.png -x 0.65 sld.png -y 0.35 sle.png -y 0.45 slf.png -y 0.55 slg.png -y 0.65 slh.png -z 0.35 sli.png -z 0.45 slj.png -z 0.55 slk.png -z 0.65 sll.png\u001b[0m\n",
      "\u001b[0;24;32;49mX: pngappend sla.png + slb.png + slc.png + sld.png + sle.png + slf.png + slg.png + slh.png + sli.png + slj.png + slk.png + sll.png highres2standard1.png\u001b[0m\n",
      "\u001b[0;24;32;49mX: slicer standard highres2standard -s 2 -x 0.35 sla.png -x 0.45 slb.png -x 0.55 slc.png -x 0.65 sld.png -y 0.35 sle.png -y 0.45 slf.png -y 0.55 slg.png -y 0.65 slh.png -z 0.35 sli.png -z 0.45 slj.png -z 0.55 slk.png -z 0.65 sll.png\u001b[0m\n",
      "\u001b[0;24;32;49mX: pngappend sla.png + slb.png + slc.png + sld.png + sle.png + slf.png + slg.png + slh.png + sli.png + slj.png + slk.png + sll.png highres2standard2.png\u001b[0m\n",
      "\u001b[0;24;32;49mX: pngappend highres2standard1.png - highres2standard2.png highres2standard.png\u001b[0m\n",
      "\u001b[0;24;32;49mX: rm -f sl?.png highres2standard1.png highres2standard2.png\u001b[0m\n",
      "\u001b[0;24;36;49mRegister Func to Standard\u001b[0m\n",
      "\u001b[0;24;32;49mX: convert_xfm -omat example_func2standard.mat -concat highres2standard.mat example_func2highres.mat\u001b[0m\n",
      "\u001b[0;24;32;49mX: flirt -ref standard -in example_func -out example_func2standard -applyxfm -init example_func2standard.mat -interp sinc\u001b[0m\n",
      "\u001b[0;24;32;49mX: convert_xfm -inverse -omat standard2example_func.mat example_func2standard.mat\u001b[0m\n",
      "\u001b[0;24;32;49mX: slicer example_func2standard standard -s 2 -x 0.35 sla.png -x 0.45 slb.png -x 0.55 slc.png -x 0.65 sld.png -y 0.35 sle.png -y 0.45 slf.png -y 0.55 slg.png -y 0.65 slh.png -z 0.35 sli.png -z 0.45 slj.png -z 0.55 slk.png -z 0.65 sll.png\u001b[0m\n",
      "\u001b[0;24;32;49mX: pngappend sla.png + slb.png + slc.png + sld.png + sle.png + slf.png + slg.png + slh.png + sli.png + slj.png + slk.png + sll.png example_func2standard1.png\u001b[0m\n",
      "\u001b[0;24;32;49mX: slicer standard example_func2standard -s 2 -x 0.35 sla.png -x 0.45 slb.png -x 0.55 slc.png -x 0.65 sld.png -y 0.35 sle.png -y 0.45 slf.png -y 0.55 slg.png -y 0.65 slh.png -z 0.35 sli.png -z 0.45 slj.png -z 0.55 slk.png -z 0.65 sll.png\u001b[0m\n",
      "\u001b[0;24;32;49mX: pngappend sla.png + slb.png + slc.png + sld.png + sle.png + slf.png + slg.png + slh.png + sli.png + slj.png + slk.png + sll.png example_func2standard2.png\u001b[0m\n",
      "\u001b[0;24;32;49mX: pngappend example_func2standard1.png - example_func2standard2.png example_func2standard.png\u001b[0m\n",
      "\u001b[0;24;32;49mX: rm -f sl?.png\u001b[0m\n",
      "\u001b[0;24;36;49mCopying images into /ifs/faculty/mirella/fmri/Prisma/subjects/TD140_ETW/restingHCP/0_checks/2_reg for user to CHECK DATA\u001b[0m\n",
      "\u001b[0;24;32;49mX: mkdir -p /ifs/faculty/mirella/fmri/Prisma/subjects/TD140_ETW/restingHCP/0_checks/2_reg 2> /dev/null; echo -n ''\u001b[0m\n",
      "\u001b[0;24;32;49mX: ln -s *.png /ifs/faculty/mirella/fmri/Prisma/subjects/TD140_ETW/restingHCP/0_checks/2_reg\u001b[0m\n",
      "\n",
      "\n",
      "\u001b[0;24;30;42mYou did not have any errors/warnings...great job good-looking. Time for a beer!\u001b[0m\n",
      "Runtime was 97.31876254081726\n"
     ]
    }
   ],
   "source": [
    "start=$(date +%s.%N)\n",
    "\n",
    "zcmd \"g_regFunc.sh -B ${basedir} -A restingmeanfunc -R ${funcdir} -S ${subjects_new}\"\n",
    "\n",
    "end=$(date +%s.%N)    \n",
    "runtime=$(python -c \"print(${end} - ${start})\")\n",
    "\n",
    "echo \"Runtime was $runtime\""
   ]
  },
  {
   "cell_type": "markdown",
   "metadata": {},
   "source": [
    "____\n",
    "<span style=\"font-family:courier;\">Runtime for 1 subject on BMAP was 97 sec = 1.5 min</span>"
   ]
  },
  {
   "cell_type": "markdown",
   "metadata": {},
   "source": [
    "## 2. Processing to prepare for ICA-AROMA: BET, Spatial Smoothing, 4D Mean Intensity Normalization\n",
    "\n",
    "### 2a. Run BET to create a mask for ICA-AROMA"
   ]
  },
  {
   "cell_type": "code",
   "execution_count": 41,
   "metadata": {},
   "outputs": [
    {
     "name": "stdout",
     "output_type": "stream",
     "text": [
      "\u001b[0;24;36;49mRunning bet for TD140_ETW\u001b[0m\n",
      "Runtime was 5.915501356124878\n"
     ]
    }
   ],
   "source": [
    "start=$(date +%s.%N)\n",
    "\n",
    "for subject in ${subjects_new}; do\n",
    "    subdir=\"${basedir}/subjects/${subject}/${funcdir}\"\n",
    "    cd ${subdir}/\n",
    "    zinfo \"Running bet for ${subject}\"\n",
    "    bet func_example.nii.gz func_example_bet.nii.gz -f 0.3 -n -m -R\n",
    "    chmod 777 *\n",
    "done\n",
    "\n",
    "end=$(date +%s.%N)    \n",
    "runtime=$(python -c \"print(${end} - ${start})\")\n",
    "\n",
    "echo \"Runtime was $runtime\""
   ]
  },
  {
   "cell_type": "markdown",
   "metadata": {},
   "source": [
    "____\n",
    "<span style=\"font-family:courier;\">Runtime for 1 subject on BMAP was 6 sec</span>"
   ]
  },
  {
   "cell_type": "markdown",
   "metadata": {},
   "source": [
    "### 2b. Run FEAT with 6mm spatial smoothing and 4D mean intensity normalization"
   ]
  },
  {
   "cell_type": "code",
   "execution_count": 43,
   "metadata": {},
   "outputs": [
    {
     "name": "stdout",
     "output_type": "stream",
     "text": [
      "data_type      FLOAT32\n",
      "dim1           104\n",
      "dim2           104\n",
      "dim3           72\n",
      "dim4           667\n",
      "datatype       16\n",
      "pixdim1        2.000000\n",
      "pixdim2        2.000000\n",
      "pixdim3        2.000000\n",
      "pixdim4        0.720000\n",
      "cal_max        0.0000\n",
      "cal_min        0.0000\n",
      "file_type      NIFTI-1+\n",
      "667\n",
      "16\n",
      "667\n",
      "\u001b[0;24;37;44mCreating Template Feat for 667 volumes\u001b[0m\n",
      "\u001b[0;24;32;49mX: sed 's/zzz/667/g' /ifs/faculty/mirella/fmri/Prisma/RestingStateAnalysis/DesignFiles/ICAaroma_6mm_4Dmeanintensity_Template_Vols.fsf > /ifs/faculty/mirella/fmri/Prisma/RestingStateAnalysis/DesignFiles/ICAaroma_6mm_4Dmeanintensity_667_Vols.fsf\u001b[0m\n",
      "\u001b[0;24;37;44mRunning Preprocessing FEAT for TD140_ETW with 6mm spatial smoothing and 4D mean intensity normalization\u001b[0m\n",
      "\u001b[0;24;32;49mX: g_runFeats.sh -B /ifs/faculty/mirella/fmri/Prisma -R restingHCP -T /ifs/faculty/mirella/fmri/Prisma/RestingStateAnalysis/DesignFiles/ICAaroma_6mm_4Dmeanintensity_667_Vols.fsf -j xxxxxx -S TD140_ETW\u001b[0m\n",
      "\u001b[0;24;37;44mExecuting: '/ifs/faculty/mirella/neurogunther/g_runFeats.sh -B /ifs/faculty/mirella/fmri/Prisma -R restingHCP -T /ifs/faculty/mirella/fmri/Prisma/RestingStateAnalysis/DesignFiles/ICAaroma_6mm_4Dmeanintensity_667_Vols.fsf -j xxxxxx -S TD140_ETW'\u001b[0m\n",
      "\u001b[0;24;36;49mreading list of subjects given by user\u001b[0m\n",
      "\u001b[0;24;36;49mRunning subjects: TD140_ETW\u001b[0m\n",
      "\n",
      "\n",
      "\u001b[0;24;37;44mRunning TD140_ETW\u001b[0m\n",
      "\u001b[0;24;36;49m...skipping check of final output\u001b[0m\n",
      "\u001b[0;24;32;49mX: mkdir -p /ifs/faculty/mirella/fmri/Prisma/subjects/TD140_ETW/restingHCP/feats/fsf 2> /dev/null; echo -n ''\u001b[0m\n",
      "\u001b[0;24;32;49mX: /ifs/faculty/mirella/neurogunther/x_fsfsubstitute.sh -i /ifs/faculty/mirella/fmri/Prisma/RestingStateAnalysis/DesignFiles/ICAaroma_6mm_4Dmeanintensity_667_Vols.fsf -f xxxxxx -r TD140_ETW -o /ifs/faculty/mirella/fmri/Prisma/subjects/TD140_ETW/restingHCP/feats/fsf/ICAaroma_6mm_4Dmeanintensity_667_Vols.fsf -c '1 0 0'\u001b[0m\n",
      "\u001b[0;24;35;49m*NOTICE* Will overwrite existing file '/ifs/faculty/mirella/fmri/Prisma/subjects/TD140_ETW/restingHCP/feats/fsf/ICAaroma_6mm_4Dmeanintensity_667_Vols.fsf'\u001b[0m\n",
      "\u001b[0;24;32;49mX: rm /ifs/faculty/mirella/fmri/Prisma/subjects/TD140_ETW/restingHCP/feats/fsf/ICAaroma_6mm_4Dmeanintensity_667_Vols.fsf\u001b[0m\n",
      "\u001b[0;24;36;49mCreating fsf file\u001b[0m\n",
      "\u001b[0;24;32;49mX: sed s/xxxxxx/TD140_ETW/g /ifs/faculty/mirella/fmri/Prisma/RestingStateAnalysis/DesignFiles/ICAaroma_6mm_4Dmeanintensity_667_Vols.fsf > /ifs/faculty/mirella/fmri/Prisma/subjects/TD140_ETW/restingHCP/feats/fsf/ICAaroma_6mm_4Dmeanintensity_667_Vols.fsf\u001b[0m\n",
      "\u001b[0;24;36;49mChecking new fsf file '/ifs/faculty/mirella/fmri/Prisma/subjects/TD140_ETW/restingHCP/feats/fsf/ICAaroma_6mm_4Dmeanintensity_667_Vols.fsf'\u001b[0m\n",
      "\u001b[0;24;32;49mX:  /ifs/faculty/mirella/neurogunther/x_checkFsf.sh /ifs/faculty/mirella/fmri/Prisma/subjects/TD140_ETW/restingHCP/feats/fsf/ICAaroma_6mm_4Dmeanintensity_667_Vols.fsf 0 0\u001b[0m\n",
      "\u001b[0;24;37;44mChecking participant fsf file: /ifs/faculty/mirella/fmri/Prisma/subjects/TD140_ETW/restingHCP/feats/fsf/ICAaroma_6mm_4Dmeanintensity_667_Vols.fsf\u001b[0m\n",
      ".....done!\n",
      "\u001b[0;24;32;49mX: feat_model /ifs/faculty/mirella/fmri/Prisma/subjects/TD140_ETW/restingHCP/feats/fsf/ICAaroma_6mm_4Dmeanintensity_667_Vols\u001b[0m\n",
      "\n",
      "\u001b[0;24;36;49mRunning feat\u001b[0m\n",
      "\u001b[0;24;32;49mX: feat /ifs/faculty/mirella/fmri/Prisma/subjects/TD140_ETW/restingHCP/feats/fsf/ICAaroma_6mm_4Dmeanintensity_667_Vols.fsf\u001b[0m\n",
      "To view the FEAT progress and final report, point your web browser at /ifs/faculty/mirella/fmri/Prisma/subjects/TD140_ETW/restingHCP/feats/ICAaroma_6mm_4Dmeanintensity.feat/report_log.html\n",
      "\u001b[0;24;32;49mX: outputFeatDir=`/ifs/faculty/mirella/neurogunther/x_fsfinfo.sh \"set fmri(outputdir)\" /ifs/faculty/mirella/fmri/Prisma/subjects/TD140_ETW/restingHCP/feats/fsf/ICAaroma_6mm_4Dmeanintensity_667_Vols.fsf | sed s/\\\\.feat$//`.feat\u001b[0m\n",
      "\u001b[0;24;36;49mLinking motion correction directory\u001b[0m\n",
      "\u001b[0;24;32;49mX: ln -s /ifs/faculty/mirella/fmri/Prisma/subjects/TD140_ETW/restingHCP/1_preprocess/mc ${outputFeatDir}/mc\u001b[0m\n",
      "\u001b[0;24;36;49mCreating motion correction report\u001b[0m\n",
      "\u001b[0;24;32;49mX: sed '/<\\/BODY>/d' ${outputFeatDir}/report_prestats.html > ${outputFeatDir}/tmp.txt\u001b[0m\n",
      "\u001b[0;24;32;49mX: mv ${outputFeatDir}/tmp.txt ${outputFeatDir}/report_prestats.html\u001b[0m\n",
      "\u001b[0;24;32;49mX: sed -e \"s/ABSOLUTE_MOTION/0.151342/\" -e \"s/RELATIVE_MOTION/0.147184/\" /ifs/faculty/mirella/neurogunther/etc/report_templates/subMotion.html >> ${outputFeatDir}/report_prestats.html\u001b[0m\n",
      "\u001b[0;24;36;49mLinking registration directory\u001b[0m\n",
      "\u001b[0;24;32;49mX: ln -s /ifs/faculty/mirella/fmri/Prisma/subjects/TD140_ETW/restingHCP/2_reg ${outputFeatDir}/reg\u001b[0m\n",
      "\u001b[0;24;36;49mCreating registration report\u001b[0m\n",
      "\u001b[0;24;32;49mX: /ifs/faculty/mirella/neurogunther/x_reportReg.sh subject ${outputFeatDir}/reg\u001b[0m\n",
      "\u001b[0;24;32;49mX: cp /ifs/faculty/mirella/neurogunther/etc/report_templates/subReg1.html /ifs/faculty/mirella/fmri/Prisma/subjects/TD140_ETW/restingHCP/feats/ICAaroma_6mm_4Dmeanintensity.feat/report_reg.html\u001b[0m\n",
      "\u001b[0;24;36;49mChanging absolute links to symbolic links\u001b[0m\n",
      "\u001b[0;24;32;49mX: symlinks -sc ${outputFeatDir}\u001b[0m\n",
      "absolute: /ifs/faculty/mirella/fmri/Prisma/subjects/TD140_ETW/restingHCP/feats/ICAaroma_6mm_4Dmeanintensity.feat/reg -> /ifs/faculty/mirella/fmri/Prisma/subjects/TD140_ETW/restingHCP/2_reg\n",
      "changed:  /ifs/faculty/mirella/fmri/Prisma/subjects/TD140_ETW/restingHCP/feats/ICAaroma_6mm_4Dmeanintensity.feat/reg -> ../../2_reg\n",
      "absolute: /ifs/faculty/mirella/fmri/Prisma/subjects/TD140_ETW/restingHCP/feats/ICAaroma_6mm_4Dmeanintensity.feat/mc -> /ifs/faculty/mirella/fmri/Prisma/subjects/TD140_ETW/restingHCP/1_preprocess/mc\n",
      "changed:  /ifs/faculty/mirella/fmri/Prisma/subjects/TD140_ETW/restingHCP/feats/ICAaroma_6mm_4Dmeanintensity.feat/mc -> ../../1_preprocess/mc\n",
      "\n",
      "\n",
      "\u001b[0;24;30;42mYou did not have any errors/warnings...great job good-looking. Time for a beer!\u001b[0m\n"
     ]
    }
   ],
   "source": [
    "for subject in ${subjects_new}; do\n",
    "        subdir=\"${basedir}/subjects/${subject}/${funcdir}\"\n",
    "        featdir=\"${subdir}/feats\"\n",
    "        subVolInfo=`fslinfo ${subdir}/func_task_pp.nii.gz`\n",
    "        oneSubVols=`echo $subVolInfo | awk '{print $10}'` #Sometimes this is $10, othertimes $12 seemingly depending on the computer or dataset. Check below which one it is for this list of subs.\n",
    "            fslinfo ${subdir}/func_task_pp.nii.gz\n",
    "            echo $subVolInfo | awk '{print $10}'\n",
    "            echo $subVolInfo | awk '{print $12}'\n",
    "            echo $oneSubVols\n",
    "\n",
    "        ### Create feat for each subject\n",
    "        ztitle \"Creating Template Feat for ${oneSubVols} volumes\"\n",
    "        zcmd \"sed 's/zzz/${oneSubVols}/g' ${homedir}/DesignFiles/ICAaroma_6mm_4Dmeanintensity_Template_Vols.fsf > ${homedir}/DesignFiles/ICAaroma_6mm_4Dmeanintensity_${oneSubVols}_Vols.fsf\"\n",
    "\n",
    "        ### Run feat for each subject\n",
    "        ztitle \"Running Preprocessing FEAT for ${subject} with 6mm spatial smoothing and 4D mean intensity normalization\"\n",
    "        zcmd \"g_runFeats.sh -B ${basedir} -R ${funcdir} -T ${homedir}/DesignFiles/ICAaroma_6mm_4Dmeanintensity_${oneSubVols}_Vols.fsf -j xxxxxx -S ${subject}\"\n",
    "done\n"
   ]
  },
  {
   "cell_type": "markdown",
   "metadata": {},
   "source": [
    "____\n",
    "While it appears that the script finished in around 6 seconds, the FEAT is still running in the background for several hours (5.2 hrs for 1 subject on BMAP). See Log to know when finished:\n",
    "\n",
    "##### On BMAP:\n",
    "\n",
    "< /ifs/faculty/mirella/fmri/Prisma/subjects/***SUBJECT***/restingHCP/feats/ICAaroma_6mm_4Dmeanintensity.feat/report_log.html >\n",
    "\n",
    "##### Using OSXFUSE or similar, \n",
    "copy/paste into browser on your computer:\n",
    "\n",
    "< ***yourOSXFUSEmount***/subjects/***SUBJECT***/restingHCP/feats/ICAaroma_6mm_4Dmeanintensity.feat/report_log.html >\n",
    "\n",
    "< /Users/emilywood/Desktop/BMAP/Prisma/subjects/***SUBJECT***/restingHCP/feats/ICAaroma_6mm_4Dmeanintensity.feat/report_log.html >"
   ]
  },
  {
   "cell_type": "markdown",
   "metadata": {},
   "source": [
    "### 2c. Change permissions for all the FEATs you just ran"
   ]
  },
  {
   "cell_type": "code",
   "execution_count": 44,
   "metadata": {},
   "outputs": [
    {
     "name": "stdout",
     "output_type": "stream",
     "text": [
      "\u001b[0;24;36;49mChanging permissions for TD140_ETW for Preprocessing FEAT with 6mm spatial smoothing and 4D mean intensity normalization\u001b[0m\n"
     ]
    }
   ],
   "source": [
    "for subject in ${subjects_new}; do\n",
    "    zinfo \"Changing permissions for ${subject} for Preprocessing FEAT with 6mm spatial smoothing and 4D mean intensity normalization\"\n",
    "    cd ${basedir}/subjects/${subject}/${funcdir}/feats/ICAaroma_6mm_4Dmeanintensity.feat\n",
    "    chmod -R 777 *\n",
    "done"
   ]
  },
  {
   "cell_type": "markdown",
   "metadata": {},
   "source": [
    "### 2d. Check FEATs to make sure run through without errors"
   ]
  },
  {
   "cell_type": "code",
   "execution_count": 45,
   "metadata": {},
   "outputs": [
    {
     "name": "stdout",
     "output_type": "stream",
     "text": [
      "TD140_ETW: no errors\n"
     ]
    }
   ],
   "source": [
    "for subject in ${subjects_new}; do\n",
    "    /usr/local/anaconda2/bin/python2.7 /ifs/faculty/mirella/fmri/Pelphrey/RestingStateAnalysis/ACE_Girls/Scripts/checkFeatReports_FlexibleFunction.py ${subject} ${basedir} ${featdir_preprocess}\n",
    "done"
   ]
  },
  {
   "cell_type": "markdown",
   "metadata": {},
   "source": [
    "## 3. ICA-AROMA\n",
    "### 3a. ICA AROMA"
   ]
  },
  {
   "cell_type": "code",
   "execution_count": 46,
   "metadata": {},
   "outputs": [
    {
     "name": "stdout",
     "output_type": "stream",
     "text": [
      "\u001b[0;24;36;49mICA AROMA time for TD140_ETW\u001b[0m\n",
      "\n",
      "------------------------------- RUNNING ICA-AROMA ------------------------------- \n",
      "--------------- 'ICA-based Automatic Removal Of Motion Artifacts' --------------- \n",
      "\n",
      "Step 1) MELODIC\n",
      "Step 2) Automatic classification of the components\n",
      "  - registering the spatial maps to MNI\n",
      "  - extracting the CSF & Edge fraction features\n",
      "  - extracting the Maximum RP correlation feature\n",
      "  - extracting the High-frequency content feature\n",
      "  - classification\n",
      "Step 3) Data denoising\n",
      "\n",
      "----------------------------------- Finished -----------------------------------\n",
      "\n",
      "Runtime was 44957.38413667679\n"
     ]
    }
   ],
   "source": [
    "start=$(date +%s.%N)\n",
    "\n",
    "for subject in ${subjects_new}; do\n",
    "    zinfo \"ICA AROMA time for ${subject}\"\n",
    "    subdir=\"${basedir}/subjects/${subject}/${funcdir}\"\n",
    "    featdir=\"${subdir}/feats\"\n",
    "    /usr/local/anaconda2/bin/python2.7 /ifs/faculty/mirella/fmri/ASD/RestingStateAnalysis/Project4_OlderCohort_Longitudinal/scripts/ICA_AROMA/ICA_AROMA.py -in ${featdir}/ICAaroma_6mm_4Dmeanintensity.feat/filtered_func_data.nii.gz -out ${subdir}/ICA_AROMA -mc ${subdir}/1_preprocess/mc/prefiltered_func_data_mcf.par -affmat ${subdir}/2_reg/example_func2standard.mat -m ${subdir}/func_example_bet_mask.nii.gz\n",
    "    cd ${subdir}/\n",
    "    chmod -R 777 *\n",
    "done\n",
    "\n",
    "end=$(date +%s.%N)    \n",
    "runtime=$(python -c \"print(${end} - ${start})\")\n",
    "\n",
    "echo \"Runtime was $runtime\""
   ]
  },
  {
   "cell_type": "markdown",
   "metadata": {},
   "source": [
    "____\n",
    "<span style=\"font-family:courier;\">Runtime for 1 subject on BMAP was 44957 sec = 12.5 hrs</span>"
   ]
  },
  {
   "cell_type": "markdown",
   "metadata": {},
   "source": [
    "### 3b. Copy and rename the denoised functional file for further processing "
   ]
  },
  {
   "cell_type": "code",
   "execution_count": 47,
   "metadata": {},
   "outputs": [
    {
     "name": "stdout",
     "output_type": "stream",
     "text": [
      "\u001b[0;24;36;49mCopying and renaming denoised func file for TD140_ETW\u001b[0m\n"
     ]
    }
   ],
   "source": [
    "for subject in ${subjects_new}; do\n",
    "    zinfo \"Copying and renaming denoised func file for ${subject}\"\n",
    "    subdir=\"${basedir}/subjects/${subject}/${funcdir}\"\n",
    "    icadir=\"${basedir}/subjects/${subject}/${funcdir}/ICA_AROMA/\"\n",
    "    cp ${icadir}/denoised_func_data_nonaggr.nii.gz ${subdir}/func_task_pp_ICAaroma.nii.gz\n",
    "done"
   ]
  },
  {
   "cell_type": "markdown",
   "metadata": {},
   "source": [
    "## 4. Segment Brain\n",
    "### 4a. Create functional mask for subject"
   ]
  },
  {
   "cell_type": "code",
   "execution_count": 48,
   "metadata": {},
   "outputs": [
    {
     "name": "stdout",
     "output_type": "stream",
     "text": [
      "\u001b[0;24;37;44mCreating functional mask for TD140_ETW\u001b[0m\n",
      "\u001b[0;24;32;49mX: fslmaths /ifs/faculty/mirella/fmri/Prisma/subjects/TD140_ETW/restingHCP/func_task_pp_ICAaroma -Tmax -bin /ifs/faculty/mirella/fmri/Prisma/subjects/TD140_ETW/restingHCP/func_mask\u001b[0m\n",
      "Runtime was 34.872947692871094\n"
     ]
    }
   ],
   "source": [
    "start=$(date +%s.%N)\n",
    "\n",
    "for subject in ${subjects_new}; do\n",
    "    subdir=\"${basedir}/subjects/${subject}/${funcdir}\"\t\t\n",
    "    ztitle \"Creating functional mask for ${subject}\"\n",
    "    zcmd \"fslmaths ${subdir}/func_task_pp_ICAaroma -Tmax -bin ${subdir}/func_mask\" \n",
    "    chmod 777 ${subdir}/func_mask.nii.gz\n",
    "done\n",
    "\n",
    "end=$(date +%s.%N)    \n",
    "runtime=$(python -c \"print(${end} - ${start})\")\n",
    "\n",
    "echo \"Runtime was $runtime\""
   ]
  },
  {
   "cell_type": "markdown",
   "metadata": {},
   "source": [
    "____\n",
    "<span style=\"font-family:courier;\">Runtime for 1 subject on BMAP was 35 sec </span>"
   ]
  },
  {
   "cell_type": "markdown",
   "metadata": {},
   "source": [
    "### 4b. Segment brain and register to functional space"
   ]
  },
  {
   "cell_type": "code",
   "execution_count": 49,
   "metadata": {},
   "outputs": [
    {
     "name": "stdout",
     "output_type": "stream",
     "text": [
      "\u001b[0;24;37;44mSegmenting TD140_ETW's brain and registering to functional space\u001b[0m\n",
      "\u001b[0;24;36;49mSegmenting brain for TD140_ETW\u001b[0m\n",
      "\u001b[0;24;32;49mX: gfc_segment.sh -u 2 -f -B /ifs/faculty/mirella/fmri/Prisma -A restingmeanfunc -R restingHCP -S TD140_ETW\u001b[0m\n",
      "\u001b[0;24;37;44mExecuting: '/ifs/faculty/mirella/neurogunther/gfc_segment.sh -u 2 -f -B /ifs/faculty/mirella/fmri/Prisma -A restingmeanfunc -R restingHCP -S TD140_ETW'\u001b[0m\n",
      "\u001b[0;24;36;49mreading list of subjects given by user\u001b[0m\n",
      "\u001b[0;24;36;49mRunning subjects: TD140_ETW\u001b[0m\n",
      "\n",
      "\n",
      "\u001b[0;24;37;44mRunning TD140_ETW\u001b[0m\n",
      "\u001b[0;24;36;49mSegmenting the brain and generating probability maps of gray, white, and csf\u001b[0m\n",
      "\u001b[0;24;32;49mX: cd /ifs/faculty/mirella/fmri/Prisma/subjects/TD140_ETW/restingmeanfunc\u001b[0m\n",
      "\u001b[0;24;32;49mX: fast -t 2 -g -p -o segment /ifs/faculty/mirella/fmri/Prisma/subjects/TD140_ETW/restingmeanfunc/brain.nii.gz\u001b[0m\n",
      "\u001b[0;24;36;49mSetup to create masks for 3 nuisance signals\u001b[0m\n",
      "\u001b[0;24;32;49mX: cd /ifs/faculty/mirella/fmri/Prisma/subjects/TD140_ETW/restingHCP\u001b[0m\n",
      "\u001b[0;24;32;49mX: mkdir /ifs/faculty/mirella/fmri/Prisma/subjects/TD140_ETW/restingHCP/3_segment 2> /dev/null; echo -n ''\u001b[0m\n",
      "\u001b[0;24;32;49mX: cd /ifs/faculty/mirella/fmri/Prisma/subjects/TD140_ETW/restingHCP/3_segment\u001b[0m\n",
      "\u001b[0;24;36;49mCreating global brain mask\u001b[0m\n",
      "\u001b[0;24;32;49mX: fslmaths /ifs/faculty/mirella/fmri/Prisma/subjects/TD140_ETW/restingHCP/func_mask.nii.gz /ifs/faculty/mirella/fmri/Prisma/subjects/TD140_ETW/restingHCP/mask_global.nii.gz\u001b[0m\n",
      "\u001b[0;24;36;49mCreating csf mask\u001b[0m\n",
      "\u001b[0;24;32;49mX: echo ''\u001b[0m\n",
      "\n",
      "\u001b[0;24;36;49mRegistering csf to native (functional) space\u001b[0m\n",
      "\u001b[0;24;32;49mX: flirt -in /ifs/faculty/mirella/fmri/Prisma/subjects/TD140_ETW/restingmeanfunc/segment_prob_2 -ref /ifs/faculty/mirella/fmri/Prisma/subjects/TD140_ETW/restingHCP/2_reg/example_func -applyxfm -init /ifs/faculty/mirella/fmri/Prisma/subjects/TD140_ETW/restingHCP/2_reg/highres2example_func.mat -out 1_csf2func\u001b[0m\n",
      "\u001b[0;24;36;49mSmoothing image (unless gFWHM=0)\u001b[0m\n",
      "\u001b[0;24;32;49mX: fslmaths 1_csf2func -kernel gauss 2.5479870901 -fmean 2_csf_sm\u001b[0m\n",
      "\u001b[0;24;36;49mRegistering to standard space\u001b[0m\n",
      "\u001b[0;24;32;49mX: flirt -in 2_csf_sm -ref /usr/local/fsl/data/standard/MNI152_T1_2mm_brain.nii.gz -applyxfm -init /ifs/faculty/mirella/fmri/Prisma/subjects/TD140_ETW/restingHCP/2_reg/example_func2standard.mat -out 3_csf2standard\u001b[0m\n",
      "\u001b[0;24;36;49mFind overlap between subject's CSF and prior\u001b[0m\n",
      "\u001b[0;24;32;49mX: fslmaths 3_csf2standard -mas /ifs/faculty/mirella/neurogunther/etc/priors/avg152T1_csf_bin.nii.gz 4_csf_masked\u001b[0m\n",
      "\u001b[0;24;36;49mRegister back to native (functional) space\u001b[0m\n",
      "\u001b[0;24;32;49mX: flirt -in 4_csf_masked -ref /ifs/faculty/mirella/fmri/Prisma/subjects/TD140_ETW/restingHCP/2_reg/example_func -applyxfm -init /ifs/faculty/mirella/fmri/Prisma/subjects/TD140_ETW/restingHCP/2_reg/standard2example_func.mat -out 5_csf_native\u001b[0m\n",
      "\u001b[0;24;36;49mThreshold and binarize csf probability map\u001b[0m\n",
      "\u001b[0;24;32;49mX: fslmaths 5_csf_native -thr 0.6 -bin 6_csf_bin\u001b[0m\n",
      "\u001b[0;24;36;49mOnly keep stuff in brain\u001b[0m\n",
      "\u001b[0;24;32;49mX: fslmaths 6_csf_bin -mas /ifs/faculty/mirella/fmri/Prisma/subjects/TD140_ETW/restingHCP/mask_global /ifs/faculty/mirella/fmri/Prisma/subjects/TD140_ETW/restingHCP/mask_csf\u001b[0m\n",
      "\u001b[0;24;36;49mCreating white matter mask\u001b[0m\n",
      "\u001b[0;24;32;49mX: echo -n ''\u001b[0m\n",
      "\u001b[0;24;36;49mRegistering wm to native (functional) space\u001b[0m\n",
      "\u001b[0;24;32;49mX: flirt -in /ifs/faculty/mirella/fmri/Prisma/subjects/TD140_ETW/restingmeanfunc/segment_prob_1 -ref /ifs/faculty/mirella/fmri/Prisma/subjects/TD140_ETW/restingHCP/2_reg/example_func -applyxfm -init /ifs/faculty/mirella/fmri/Prisma/subjects/TD140_ETW/restingHCP/2_reg/highres2example_func.mat -out 1_wm2func\u001b[0m\n",
      "\u001b[0;24;36;49mSmoothing image (unless gFWHM=0)\u001b[0m\n",
      "\u001b[0;24;32;49mX: fslmaths 1_wm2func -kernel gauss 2.5479870901 -fmean 2_wm_sm\u001b[0m\n",
      "\u001b[0;24;36;49mRegistering to standard space\u001b[0m\n",
      "\u001b[0;24;32;49mX: flirt -in 2_wm_sm -ref /usr/local/fsl/data/standard/MNI152_T1_2mm_brain.nii.gz -applyxfm -init /ifs/faculty/mirella/fmri/Prisma/subjects/TD140_ETW/restingHCP/2_reg/example_func2standard.mat -out 3_wm2standard\u001b[0m\n",
      "\u001b[0;24;36;49mFind overlap between subject's WM and prior\u001b[0m\n",
      "\u001b[0;24;32;49mX: fslmaths 3_wm2standard -mas /ifs/faculty/mirella/neurogunther/etc/priors/avg152T1_white_bin.nii.gz 4_wm_masked\u001b[0m\n",
      "\u001b[0;24;36;49mRegister back to native (functional) space\u001b[0m\n",
      "\u001b[0;24;32;49mX: flirt -in 4_wm_masked -ref /ifs/faculty/mirella/fmri/Prisma/subjects/TD140_ETW/restingHCP/2_reg/example_func -applyxfm -init /ifs/faculty/mirella/fmri/Prisma/subjects/TD140_ETW/restingHCP/2_reg/standard2example_func.mat -out 5_wm_native\u001b[0m\n",
      "\u001b[0;24;36;49mThreshold and binarize wm probability map\u001b[0m\n",
      "\u001b[0;24;32;49mX: fslmaths 5_wm_native -thr 0.66 -bin 6_wm_bin\u001b[0m\n",
      "\u001b[0;24;36;49mOnly keep stuff in brain\u001b[0m\n",
      "\u001b[0;24;32;49mX: fslmaths 6_wm_bin -mas /ifs/faculty/mirella/fmri/Prisma/subjects/TD140_ETW/restingHCP/mask_global /ifs/faculty/mirella/fmri/Prisma/subjects/TD140_ETW/restingHCP/mask_wm\u001b[0m\n",
      "\u001b[0;24;36;49mCreating images of global, csf, and white matter masks in /ifs/faculty/mirella/fmri/Prisma/subjects/TD140_ETW/restingHCP/0_checks/3_segment for user to CHECK\u001b[0m\n",
      "\u001b[0;24;32;49mX: mkdir -p /ifs/faculty/mirella/fmri/Prisma/subjects/TD140_ETW/restingHCP/0_checks/3_segment 2> /dev/null; echo -n ''\u001b[0m\n",
      "\u001b[0;24;36;49mglobal\u001b[0m\n",
      "\u001b[0;24;32;49mX: overlay 1 1 /ifs/faculty/mirella/fmri/Prisma/subjects/TD140_ETW/restingHCP/func_example.nii.gz -a /ifs/faculty/mirella/fmri/Prisma/subjects/TD140_ETW/restingHCP/mask_global.nii.gz 1 1 /ifs/faculty/mirella/fmri/Prisma/subjects/TD140_ETW/restingHCP/0_checks/3_segment/rendered_global\u001b[0m\n",
      "\u001b[0;24;32;49mX: slicer /ifs/faculty/mirella/fmri/Prisma/subjects/TD140_ETW/restingHCP/0_checks/3_segment/rendered_global -s 2 -A 750 /ifs/faculty/mirella/fmri/Prisma/subjects/TD140_ETW/restingHCP/0_checks/3_segment/global.png\u001b[0m\n",
      "\u001b[0;24;36;49mcsf\u001b[0m\n",
      "\u001b[0;24;32;49mX: overlay 1 1 /ifs/faculty/mirella/fmri/Prisma/subjects/TD140_ETW/restingHCP/func_example.nii.gz -a /ifs/faculty/mirella/fmri/Prisma/subjects/TD140_ETW/restingHCP/mask_csf.nii.gz 1 1 /ifs/faculty/mirella/fmri/Prisma/subjects/TD140_ETW/restingHCP/0_checks/3_segment/rendered_csf\u001b[0m\n",
      "\u001b[0;24;32;49mX: slicer /ifs/faculty/mirella/fmri/Prisma/subjects/TD140_ETW/restingHCP/0_checks/3_segment/rendered_csf -s 2 -A 750 /ifs/faculty/mirella/fmri/Prisma/subjects/TD140_ETW/restingHCP/0_checks/3_segment/csf.png\u001b[0m\n",
      "\u001b[0;24;36;49mwhite matter\u001b[0m\n",
      "\u001b[0;24;32;49mX: overlay 1 1 /ifs/faculty/mirella/fmri/Prisma/subjects/TD140_ETW/restingHCP/func_example.nii.gz -a /ifs/faculty/mirella/fmri/Prisma/subjects/TD140_ETW/restingHCP/mask_wm.nii.gz 1 1 /ifs/faculty/mirella/fmri/Prisma/subjects/TD140_ETW/restingHCP/0_checks/3_segment/rendered_wm\u001b[0m\n",
      "\u001b[0;24;32;49mX: slicer /ifs/faculty/mirella/fmri/Prisma/subjects/TD140_ETW/restingHCP/0_checks/3_segment/rendered_wm -s 2 -A 750 /ifs/faculty/mirella/fmri/Prisma/subjects/TD140_ETW/restingHCP/0_checks/3_segment/wm.png\u001b[0m\n",
      "\u001b[0;24;36;49mclean-up checks\u001b[0m\n",
      "\u001b[0;24;32;49mX: rm -f /ifs/faculty/mirella/fmri/Prisma/subjects/TD140_ETW/restingHCP/0_checks/3_segment/rendered*nii.gz\u001b[0m\n",
      "\u001b[0;24;36;49mQuickly checking the images by myself because I know you are lazy\u001b[0m\n",
      "\u001b[0;24;32;49mX:  /ifs/faculty/mirella/neurogunther/x_checkImage.sh /ifs/faculty/mirella/fmri/Prisma/subjects/TD140_ETW/restingHCP/mask_global.nii.gz 1\u001b[0m\n",
      "\u001b[0;24;32;49mX:  /ifs/faculty/mirella/neurogunther/x_checkImage.sh /ifs/faculty/mirella/fmri/Prisma/subjects/TD140_ETW/restingHCP/mask_csf.nii.gz 1\u001b[0m\n",
      "\u001b[0;24;32;49mX:  /ifs/faculty/mirella/neurogunther/x_checkImage.sh /ifs/faculty/mirella/fmri/Prisma/subjects/TD140_ETW/restingHCP/mask_wm.nii.gz 1\u001b[0m\n",
      "\n",
      "\n",
      "\u001b[0;24;30;42mYou did not have any errors/warnings...great job good-looking. Time for a beer!\u001b[0m\n",
      "Runtime was 50.82075881958008\n"
     ]
    }
   ],
   "source": [
    "start=$(date +%s.%N)\n",
    "\n",
    "for subject in ${subjects_new}; do\n",
    "    subdir=\"${basedir}/subjects/${subject}/${funcdir}\"\n",
    "    ztitle \"Segmenting ${subject}'s brain and registering to functional space\"\n",
    "    zinfo \"Segmenting brain for ${subject}\"\n",
    "    zcmd \"gfc_segment.sh -u 2 -f -B ${basedir} -A restingmeanfunc -R ${funcdir} -S ${subject}\"\n",
    "    cd ${subdir}/\n",
    "    chmod 777 *\n",
    "done\n",
    "\n",
    "end=$(date +%s.%N)    \n",
    "runtime=$(python -c \"print(${end} - ${start})\")\n",
    "\n",
    "echo \"Runtime was $runtime\""
   ]
  },
  {
   "cell_type": "markdown",
   "metadata": {},
   "source": [
    "____\n",
    "<span style=\"font-family:courier;\">Runtime for 1 subject on BMAP was 51 sec</span>"
   ]
  },
  {
   "cell_type": "markdown",
   "metadata": {},
   "source": [
    "## 5. Bandpass Filter"
   ]
  },
  {
   "cell_type": "code",
   "execution_count": 50,
   "metadata": {},
   "outputs": [
    {
     "name": "stdout",
     "output_type": "stream",
     "text": [
      "\u001b[0;24;36;49mBand Pass Temporal Filter preprocessed between 0.1Hz and .01 Hz for TD140_ETW\u001b[0m\n",
      "\u001b[0;24;32;49mX: fslmaths /ifs/faculty/mirella/fmri/Prisma/subjects/TD140_ETW/restingHCP/func_task_pp_ICAaroma.nii.gz -Tmean /ifs/faculty/mirella/fmri/Prisma/subjects/TD140_ETW/restingHCP/func_task_pp_ICAaroma_mean.nii.gz\u001b[0m\n",
      "\u001b[0;24;32;49mX: fslmaths /ifs/faculty/mirella/fmri/Prisma/subjects/TD140_ETW/restingHCP/func_task_pp_ICAaroma.nii.gz -bptf 25 2.5 -add /ifs/faculty/mirella/fmri/Prisma/subjects/TD140_ETW/restingHCP/func_task_pp_ICAaroma_mean.nii.gz /ifs/faculty/mirella/fmri/Prisma/subjects/TD140_ETW/restingHCP/func_task_pp_ICAaroma_bptf.nii.gz\u001b[0m\n",
      "Runtime was 738.2928292751312\n"
     ]
    }
   ],
   "source": [
    "start=$(date +%s.%N)\n",
    "\n",
    "for subject in ${subjects_new}; do\n",
    "    subdir=\"${basedir}/subjects/${subject}/${funcdir}\"\n",
    "    zinfo \"Band Pass Temporal Filter preprocessed between 0.1Hz and .01 Hz for ${subject}\"\n",
    "    #Updated bptf command as of 9/2015 for newest version of FSL. \n",
    "    #MUST CHANGE BPTF IF TR CHANGES. There are conflicting formulas on the internet, but this appears to be the one we used for our own data: sigma[vol] = filter_width[secs]/(2*TR[secs]).\n",
    "    zcmd \"fslmaths ${subdir}/func_task_pp_ICAaroma.nii.gz -Tmean ${subdir}/func_task_pp_ICAaroma_mean.nii.gz\"\n",
    "    zcmd \"fslmaths ${subdir}/func_task_pp_ICAaroma.nii.gz -bptf 25 2.5 -add ${subdir}/func_task_pp_ICAaroma_mean.nii.gz ${subdir}/func_task_pp_ICAaroma_bptf.nii.gz\"\n",
    "    cd ${basedir}/subjects/${subject}/${funcdir}/\n",
    "    chmod 777 *\n",
    "done\n",
    "\n",
    "end=$(date +%s.%N)    \n",
    "runtime=$(python -c \"print(${end} - ${start})\")\n",
    "\n",
    "echo \"Runtime was $runtime\""
   ]
  },
  {
   "cell_type": "markdown",
   "metadata": {},
   "source": [
    "____\n",
    "<span style=\"font-family:courier;\">Runtime for 1 subject on BMAP was 738 sec = 12.3 min</span>"
   ]
  },
  {
   "cell_type": "markdown",
   "metadata": {},
   "source": [
    "## 6. Create CSF, WM, Global Nuisance Regressors"
   ]
  },
  {
   "cell_type": "code",
   "execution_count": 51,
   "metadata": {},
   "outputs": [
    {
     "name": "stdout",
     "output_type": "stream",
     "text": [
      "\u001b[0;24;36;49mCreate nuisance regressors for WM, CSF and global signal TD140_ETW\u001b[0m\n",
      "\u001b[0;24;32;49mX: 3dmaskave -mask /ifs/faculty/mirella/fmri/Prisma/subjects/TD140_ETW/restingHCP/mask_csf.nii.gz -quiet /ifs/faculty/mirella/fmri/Prisma/subjects/TD140_ETW/restingHCP/func_task_pp_ICAaroma_bptf.nii.gz > /ifs/faculty/mirella/fmri/Prisma/subjects/TD140_ETW/restingHCP/csf_bptf.1D\u001b[0m\n",
      "++ 3dmaskave: AFNI version=AFNI_16.0.00 (Jan  1 2016) [64-bit]\n",
      "+++ 169 voxels survive the mask\n",
      "\u001b[0;24;32;49mX: 3dmaskave -mask /ifs/faculty/mirella/fmri/Prisma/subjects/TD140_ETW/restingHCP/mask_wm.nii.gz -quiet /ifs/faculty/mirella/fmri/Prisma/subjects/TD140_ETW/restingHCP/func_task_pp_ICAaroma_bptf.nii.gz > /ifs/faculty/mirella/fmri/Prisma/subjects/TD140_ETW/restingHCP/wm_bptf.1D\u001b[0m\n",
      "++ 3dmaskave: AFNI version=AFNI_16.0.00 (Jan  1 2016) [64-bit]\n",
      "+++ 3294 voxels survive the mask\n",
      "\u001b[0;24;32;49mX: 3dmaskave -mask /ifs/faculty/mirella/fmri/Prisma/subjects/TD140_ETW/restingHCP/mask_global.nii.gz -quiet /ifs/faculty/mirella/fmri/Prisma/subjects/TD140_ETW/restingHCP/func_task_pp_ICAaroma_bptf.nii.gz > /ifs/faculty/mirella/fmri/Prisma/subjects/TD140_ETW/restingHCP/global_bptf.1D\u001b[0m\n",
      "++ 3dmaskave: AFNI version=AFNI_16.0.00 (Jan  1 2016) [64-bit]\n",
      "+++ 221948 voxels survive the mask\n",
      "Runtime was 50.3921377658844\n"
     ]
    }
   ],
   "source": [
    "start=$(date +%s.%N)\n",
    "\n",
    "for subject in ${subjects_new}; do\n",
    "    subdir=\"${basedir}/subjects/${subject}/${funcdir}\"\n",
    "    regdir=\"${subdir}/2_reg\"\n",
    "    featdir=\"${subdir}/feats\"\n",
    "    zinfo \"Create nuisance regressors for WM, CSF and global signal ${subject}\"\n",
    "    zcmd \"3dmaskave -mask ${subdir}/mask_csf.nii.gz -quiet ${subdir}/func_task_pp_ICAaroma_bptf.nii.gz > ${subdir}/csf_bptf.1D\"\n",
    "    zcmd \"3dmaskave -mask ${subdir}/mask_wm.nii.gz -quiet ${subdir}/func_task_pp_ICAaroma_bptf.nii.gz > ${subdir}/wm_bptf.1D\"\n",
    "    zcmd \"3dmaskave -mask ${subdir}/mask_global.nii.gz -quiet ${subdir}/func_task_pp_ICAaroma_bptf.nii.gz > ${subdir}/global_bptf.1D\"\n",
    "    cd ${subdir}/\n",
    "    chmod 777 *\n",
    "done\n",
    "\n",
    "end=$(date +%s.%N)    \n",
    "runtime=$(python -c \"print(${end} - ${start})\")\n",
    "\n",
    "echo \"Runtime was $runtime\""
   ]
  },
  {
   "cell_type": "markdown",
   "metadata": {},
   "source": [
    "____\n",
    "<span style=\"font-family:courier;\">Runtime for 1 subject on BMAP was 50 sec</span>"
   ]
  },
  {
   "cell_type": "markdown",
   "metadata": {},
   "source": [
    "## 7. Run FEAT to regress out tissue nuisance regressors\n",
    "### 7a. Run FEAT to regress out tissue nuisance regressors (no smoothing)"
   ]
  },
  {
   "cell_type": "code",
   "execution_count": 52,
   "metadata": {},
   "outputs": [
    {
     "name": "stdout",
     "output_type": "stream",
     "text": [
      "ERROR: Could not open file\n",
      "667\n",
      "16\n",
      "667\n",
      "\u001b[0;24;37;44mCreating Template Feat for 667 volumes\u001b[0m\n",
      "\u001b[0;24;32;49mX: sed 's/zzz/667/g' /ifs/faculty/mirella/fmri/Prisma/RestingStateAnalysis/DesignFiles/ICAaroma_global_tissueregress_Template_Vols.fsf > /ifs/faculty/mirella/fmri/Prisma/RestingStateAnalysis/DesignFiles/ICAaroma_global_tissueregress_667_Vols.fsf\u001b[0m\n",
      "\u001b[0;24;37;44mRunning FEAT for TD140_ETW for global to regress nuisance regressors\u001b[0m\n",
      "\u001b[0;24;32;49mX: g_runFeats.sh -B /ifs/faculty/mirella/fmri/Prisma -R restingHCP -T /ifs/faculty/mirella/fmri/Prisma/RestingStateAnalysis/DesignFiles/ICAaroma_global_tissueregress_667_Vols.fsf -j xxxxxx -S TD140_ETW\u001b[0m\n",
      "\u001b[0;24;37;44mExecuting: '/ifs/faculty/mirella/neurogunther/g_runFeats.sh -B /ifs/faculty/mirella/fmri/Prisma -R restingHCP -T /ifs/faculty/mirella/fmri/Prisma/RestingStateAnalysis/DesignFiles/ICAaroma_global_tissueregress_667_Vols.fsf -j xxxxxx -S TD140_ETW'\u001b[0m\n",
      "\u001b[0;24;36;49mreading list of subjects given by user\u001b[0m\n",
      "\u001b[0;24;36;49mRunning subjects: TD140_ETW\u001b[0m\n",
      "\n",
      "\n",
      "\u001b[0;24;37;44mRunning TD140_ETW\u001b[0m\n",
      "\u001b[0;24;36;49m...skipping check of final output\u001b[0m\n",
      "\u001b[0;24;32;49mX: mkdir -p /ifs/faculty/mirella/fmri/Prisma/subjects/TD140_ETW/restingHCP/feats/fsf 2> /dev/null; echo -n ''\u001b[0m\n",
      "\u001b[0;24;32;49mX: /ifs/faculty/mirella/neurogunther/x_fsfsubstitute.sh -i /ifs/faculty/mirella/fmri/Prisma/RestingStateAnalysis/DesignFiles/ICAaroma_global_tissueregress_667_Vols.fsf -f xxxxxx -r TD140_ETW -o /ifs/faculty/mirella/fmri/Prisma/subjects/TD140_ETW/restingHCP/feats/fsf/ICAaroma_global_tissueregress_667_Vols.fsf -c '1 0 0'\u001b[0m\n",
      "\u001b[0;24;36;49mCreating fsf file\u001b[0m\n",
      "\u001b[0;24;32;49mX: sed s/xxxxxx/TD140_ETW/g /ifs/faculty/mirella/fmri/Prisma/RestingStateAnalysis/DesignFiles/ICAaroma_global_tissueregress_667_Vols.fsf > /ifs/faculty/mirella/fmri/Prisma/subjects/TD140_ETW/restingHCP/feats/fsf/ICAaroma_global_tissueregress_667_Vols.fsf\u001b[0m\n",
      "\u001b[0;24;36;49mChecking new fsf file '/ifs/faculty/mirella/fmri/Prisma/subjects/TD140_ETW/restingHCP/feats/fsf/ICAaroma_global_tissueregress_667_Vols.fsf'\u001b[0m\n",
      "\u001b[0;24;32;49mX:  /ifs/faculty/mirella/neurogunther/x_checkFsf.sh /ifs/faculty/mirella/fmri/Prisma/subjects/TD140_ETW/restingHCP/feats/fsf/ICAaroma_global_tissueregress_667_Vols.fsf 0 0\u001b[0m\n",
      "\u001b[0;24;37;44mChecking participant fsf file: /ifs/faculty/mirella/fmri/Prisma/subjects/TD140_ETW/restingHCP/feats/fsf/ICAaroma_global_tissueregress_667_Vols.fsf\u001b[0m\n",
      ".....done!\n",
      "\u001b[0;24;32;49mX: feat_model /ifs/faculty/mirella/fmri/Prisma/subjects/TD140_ETW/restingHCP/feats/fsf/ICAaroma_global_tissueregress_667_Vols\u001b[0m\n",
      "\n",
      "\u001b[0;24;36;49mRunning feat\u001b[0m\n",
      "\u001b[0;24;32;49mX: feat /ifs/faculty/mirella/fmri/Prisma/subjects/TD140_ETW/restingHCP/feats/fsf/ICAaroma_global_tissueregress_667_Vols.fsf\u001b[0m\n",
      "To view the FEAT progress and final report, point your web browser at /ifs/faculty/mirella/fmri/Prisma/subjects/TD140_ETW/restingHCP/feats/ICAaroma_global_tissueregress.feat/report_log.html\n",
      "\u001b[0;24;32;49mX: outputFeatDir=`/ifs/faculty/mirella/neurogunther/x_fsfinfo.sh \"set fmri(outputdir)\" /ifs/faculty/mirella/fmri/Prisma/subjects/TD140_ETW/restingHCP/feats/fsf/ICAaroma_global_tissueregress_667_Vols.fsf | sed s/\\\\.feat$//`.feat\u001b[0m\n",
      "\u001b[0;24;36;49mLinking motion correction directory\u001b[0m\n",
      "\u001b[0;24;32;49mX: ln -s /ifs/faculty/mirella/fmri/Prisma/subjects/TD140_ETW/restingHCP/1_preprocess/mc ${outputFeatDir}/mc\u001b[0m\n",
      "\u001b[0;24;36;49mCreating motion correction report\u001b[0m\n",
      "\u001b[0;24;32;49mX: sed '/<\\/BODY>/d' ${outputFeatDir}/report_prestats.html > ${outputFeatDir}/tmp.txt\u001b[0m\n",
      "\u001b[0;24;32;49mX: mv ${outputFeatDir}/tmp.txt ${outputFeatDir}/report_prestats.html\u001b[0m\n",
      "\u001b[0;24;32;49mX: sed -e \"s/ABSOLUTE_MOTION/0.151342/\" -e \"s/RELATIVE_MOTION/0.147184/\" /ifs/faculty/mirella/neurogunther/etc/report_templates/subMotion.html >> ${outputFeatDir}/report_prestats.html\u001b[0m\n",
      "\u001b[0;24;36;49mLinking registration directory\u001b[0m\n",
      "\u001b[0;24;32;49mX: ln -s /ifs/faculty/mirella/fmri/Prisma/subjects/TD140_ETW/restingHCP/2_reg ${outputFeatDir}/reg\u001b[0m\n",
      "\u001b[0;24;36;49mCreating registration report\u001b[0m\n",
      "\u001b[0;24;32;49mX: /ifs/faculty/mirella/neurogunther/x_reportReg.sh subject ${outputFeatDir}/reg\u001b[0m\n",
      "\u001b[0;24;32;49mX: cp /ifs/faculty/mirella/neurogunther/etc/report_templates/subReg1.html /ifs/faculty/mirella/fmri/Prisma/subjects/TD140_ETW/restingHCP/feats/ICAaroma_global_tissueregress.feat/report_reg.html\u001b[0m\n",
      "\u001b[0;24;36;49mChanging absolute links to symbolic links\u001b[0m\n",
      "\u001b[0;24;32;49mX: symlinks -sc ${outputFeatDir}\u001b[0m\n",
      "absolute: /ifs/faculty/mirella/fmri/Prisma/subjects/TD140_ETW/restingHCP/feats/ICAaroma_global_tissueregress.feat/reg -> /ifs/faculty/mirella/fmri/Prisma/subjects/TD140_ETW/restingHCP/2_reg\n",
      "changed:  /ifs/faculty/mirella/fmri/Prisma/subjects/TD140_ETW/restingHCP/feats/ICAaroma_global_tissueregress.feat/reg -> ../../2_reg\n",
      "absolute: /ifs/faculty/mirella/fmri/Prisma/subjects/TD140_ETW/restingHCP/feats/ICAaroma_global_tissueregress.feat/mc -> /ifs/faculty/mirella/fmri/Prisma/subjects/TD140_ETW/restingHCP/1_preprocess/mc\n",
      "changed:  /ifs/faculty/mirella/fmri/Prisma/subjects/TD140_ETW/restingHCP/feats/ICAaroma_global_tissueregress.feat/mc -> ../../1_preprocess/mc\n",
      "\n",
      "\n",
      "\u001b[0;24;30;42mYou did not have any errors/warnings...great job good-looking. Time for a beer!\u001b[0m\n",
      "Runtime was 8.373793601989746\n"
     ]
    }
   ],
   "source": [
    "start=$(date +%s.%N)\n",
    "\n",
    "for option in ${options}; do\n",
    "for subject in ${subjects_new}; do\t\n",
    "        subdir=\"${basedir}/subjects/${subject}/${funcdir}\"\n",
    "        featdir=\"${subdir}/feats\"\t\n",
    "        subVolInfo=`fslinfo ${subdir}/func_task_pp_ICAaroma_bptf.nii.gz`\n",
    "        oneSubVols=`echo $subVolInfo | awk '{print $10}'` #Sometimes this is $10, othertimes $12 seemingly depending on the computer or dataset. Check below which one it is for this list of subs.\n",
    "            fslinfo ${subdir}/func_task_pp_bptf.nii.gz\n",
    "            echo $subVolInfo | awk '{print $10}'\n",
    "            echo $subVolInfo | awk '{print $12}'\n",
    "            echo $oneSubVols\n",
    "\n",
    "        ### Create feat for each subject \n",
    "        ztitle \"Creating Template Feat for ${oneSubVols} volumes\"\n",
    "        zcmd \"sed 's/zzz/${oneSubVols}/g' ${homedir}/DesignFiles/ICAaroma_${option}_tissueregress_Template_Vols.fsf > ${homedir}/DesignFiles/ICAaroma_${option}_tissueregress_${oneSubVols}_Vols.fsf\"\n",
    "\n",
    "        ### Run feat for each subject\n",
    "        ztitle \"Running FEAT for ${subject} for ${option} to regress nuisance regressors\"\n",
    "        zcmd \"g_runFeats.sh -B ${basedir} -R ${funcdir} -T ${homedir}/DesignFiles/ICAaroma_${option}_tissueregress_${oneSubVols}_Vols.fsf -j xxxxxx -S ${subject}\"\n",
    "done\n",
    "done\n",
    "\n",
    "end=$(date +%s.%N)    \n",
    "runtime=$(python -c \"print(${end} - ${start})\")\n",
    "\n",
    "echo \"Runtime was $runtime\""
   ]
  },
  {
   "cell_type": "markdown",
   "metadata": {},
   "source": [
    "____\n",
    "Even though it says you were done in 9 sec, the FEAT is running in the background.\n",
    "\n",
    "<span style=\"font-family:courier;\">Runtime for 1 subject on BMAP was 83 min</span>"
   ]
  },
  {
   "cell_type": "markdown",
   "metadata": {},
   "source": [
    "### 7b. Change permissions for the FEATs you just ran"
   ]
  },
  {
   "cell_type": "code",
   "execution_count": 53,
   "metadata": {},
   "outputs": [
    {
     "name": "stdout",
     "output_type": "stream",
     "text": [
      "\u001b[0;24;36;49mChanging permissions for TD140_ETW for  for tissue regression FEAT\u001b[0m\n"
     ]
    }
   ],
   "source": [
    "for option in ${options}; do\n",
    "for subject in ${subjects_new}; do\n",
    "    zinfo \"Changing permissions for ${subject} for ${global} for tissue regression FEAT\"\n",
    "    chmod -R 777 ${basedir}/subjects/${subject}/${funcdir}/feats/ICAaroma_${option}_tissueregress.feat\n",
    "done\n",
    "done"
   ]
  },
  {
   "cell_type": "markdown",
   "metadata": {},
   "source": [
    "### 7c. Check FEATs"
   ]
  },
  {
   "cell_type": "code",
   "execution_count": 55,
   "metadata": {},
   "outputs": [
    {
     "name": "stdout",
     "output_type": "stream",
     "text": [
      "TD140_ETW: no errors\n"
     ]
    }
   ],
   "source": [
    "for subject in ${subjects_new}; do\n",
    "    /usr/local/anaconda2/bin/python2.7 /ifs/faculty/mirella/fmri/Pelphrey/RestingStateAnalysis/ACE_Girls/Scripts/checkFeatReports_FlexibleFunction.py ${subject} ${basedir} ${featdir_tissueregress}\n",
    "done"
   ]
  },
  {
   "cell_type": "markdown",
   "metadata": {},
   "source": [
    "## Normalize and register residuals"
   ]
  },
  {
   "cell_type": "code",
   "execution_count": 60,
   "metadata": {},
   "outputs": [
    {
     "name": "stdout",
     "output_type": "stream",
     "text": [
      "\u001b[0;24;37;44mNormalize and register residuals for TD140_ETW\u001b[0m\n",
      "\u001b[0;24;36;49mNormalize residuals for TD140_ETW\u001b[0m\n",
      "\u001b[0;24;32;49mX: fslmaths /ifs/faculty/mirella/fmri/Prisma/subjects/TD140_ETW/restingHCP/feats/ICAaroma_global_tissueregress.feat/stats/res4d.nii.gz -Tmean /ifs/faculty/mirella/fmri/Prisma/subjects/TD140_ETW/restingHCP/feats/ICAaroma_global_tissueregress.feat/stats/mean_res4d_tmp\u001b[0m\n",
      "\u001b[0;24;32;49mX: fslmaths /ifs/faculty/mirella/fmri/Prisma/subjects/TD140_ETW/restingHCP/feats/ICAaroma_global_tissueregress.feat/stats/res4d.nii.gz -Tstd /ifs/faculty/mirella/fmri/Prisma/subjects/TD140_ETW/restingHCP/feats/ICAaroma_global_tissueregress.feat/stats/std_res4d_tmp\u001b[0m\n",
      "\u001b[0;24;32;49mX: fslmaths /ifs/faculty/mirella/fmri/Prisma/subjects/TD140_ETW/restingHCP/feats/ICAaroma_global_tissueregress.feat/stats/res4d.nii.gz -sub /ifs/faculty/mirella/fmri/Prisma/subjects/TD140_ETW/restingHCP/feats/ICAaroma_global_tissueregress.feat/stats/mean_res4d_tmp -div /ifs/faculty/mirella/fmri/Prisma/subjects/TD140_ETW/restingHCP/feats/ICAaroma_global_tissueregress.feat/stats/std_res4d_tmp -add 100 -mas /ifs/faculty/mirella/fmri/Prisma/subjects/TD140_ETW/restingHCP/feats/ICAaroma_global_tissueregress.feat/mask.nii.gz /ifs/faculty/mirella/fmri/Prisma/subjects/TD140_ETW/restingHCP/feats/ICAaroma_global_tissueregress.feat/normres4d.nii.gz\u001b[0m\n",
      "\u001b[0;24;32;49mX: rm /ifs/faculty/mirella/fmri/Prisma/subjects/TD140_ETW/restingHCP/feats/ICAaroma_global_tissueregress.feat/stats/*res4d_tmp*\u001b[0m\n",
      "\u001b[0;24;36;49mRegister residuals to standard space for TD140_ETW\u001b[0m\n",
      "\u001b[0;24;32;49mX: flirt -in /ifs/faculty/mirella/fmri/Prisma/subjects/TD140_ETW/restingHCP/feats/ICAaroma_global_tissueregress.feat/stats/res4d -ref /ifs/faculty/mirella/fmri/Prisma/subjects/TD140_ETW/restingHCP/2_reg/standard -out /ifs/faculty/mirella/fmri/Prisma/subjects/TD140_ETW/restingHCP/feats/ICAaroma_global_tissueregress.feat/res4d2standard -applyxfm -init /ifs/faculty/mirella/fmri/Prisma/subjects/TD140_ETW/restingHCP/2_reg/example_func2standard.mat\u001b[0m\n",
      "\u001b[0;24;36;49mRegister normalized residuals to standard space for TD140_ETW\u001b[0m\n",
      "\u001b[0;24;32;49mX: flirt -in /ifs/faculty/mirella/fmri/Prisma/subjects/TD140_ETW/restingHCP/feats/ICAaroma_global_tissueregress.feat/normres4d -ref /ifs/faculty/mirella/fmri/Prisma/subjects/TD140_ETW/restingHCP/2_reg/standard -out /ifs/faculty/mirella/fmri/Prisma/subjects/TD140_ETW/restingHCP/feats/ICAaroma_global_tissueregress.feat/normres4d2standard -applyxfm -init /ifs/faculty/mirella/fmri/Prisma/subjects/TD140_ETW/restingHCP/2_reg/example_func2standard.mat\u001b[0m\n",
      "\u001b[0;24;36;49mChanging permissions for TD140_ETW for whole folder\u001b[0m\n",
      "Runtime was 586.7374594211578\n"
     ]
    }
   ],
   "source": [
    "start=$(date +%s.%N)\n",
    "\n",
    "for option in ${options}; do\n",
    "    for subject in ${subjects_new}; do\n",
    "        subdir=\"${basedir}/subjects/${subject}/${funcdir}\"\n",
    "        regdir=\"${subdir}/2_reg\"\n",
    "        featdir=\"${subdir}/feats\"\n",
    "\n",
    "        ##### Normalize residuals\n",
    "        ztitle \"Normalize and register residuals for ${subject}\"\n",
    "        zinfo \"Normalize residuals for ${subject}\"\n",
    "        zcmd \"fslmaths ${basedir}/subjects/${subject}/${funcdir}/feats/ICAaroma_${option}_tissueregress.feat/stats/res4d.nii.gz -Tmean ${featdir}/ICAaroma_${option}_tissueregress.feat/stats/mean_res4d_tmp\"\n",
    "        zcmd \"fslmaths ${basedir}/subjects/${subject}/${funcdir}/feats/ICAaroma_${option}_tissueregress.feat/stats/res4d.nii.gz -Tstd ${featdir}/ICAaroma_${option}_tissueregress.feat/stats/std_res4d_tmp\"\n",
    "        zcmd \"fslmaths ${basedir}/subjects/${subject}/${funcdir}/feats/ICAaroma_${option}_tissueregress.feat/stats/res4d.nii.gz -sub ${featdir}/ICAaroma_${option}_tissueregress.feat/stats/mean_res4d_tmp -div ${featdir}/ICAaroma_${option}_tissueregress.feat/stats/std_res4d_tmp -add 100 -mas ${featdir}/ICAaroma_${option}_tissueregress.feat/mask.nii.gz ${featdir}/ICAaroma_${option}_tissueregress.feat/normres4d.nii.gz\"\n",
    "        zcmd \"rm ${featdir}/ICAaroma_${option}_tissueregress.feat/stats/*res4d_tmp*\"\n",
    "\n",
    "\n",
    "        ##### Register residuals and normalized residuals to standard space (assuming linear registration has been done)\n",
    "        zinfo \"Register residuals to standard space for ${subject}\"\n",
    "        zcmd \"flirt -in ${featdir}/ICAaroma_${option}_tissueregress.feat/stats/res4d -ref ${regdir}/standard -out ${featdir}/ICAaroma_${option}_tissueregress.feat/res4d2standard -applyxfm -init ${regdir}/example_func2standard.mat\"\t\t\n",
    "\n",
    "        zinfo \"Register normalized residuals to standard space for ${subject}\"\n",
    "        zcmd \"flirt -in ${featdir}/ICAaroma_${option}_tissueregress.feat/normres4d -ref ${regdir}/standard -out ${featdir}/ICAaroma_${option}_tissueregress.feat/normres4d2standard -applyxfm -init ${regdir}/example_func2standard.mat\"\n",
    "\n",
    "        ###Change permissions \n",
    "        zinfo \"Changing permissions for ${subject} for whole folder\"\n",
    "        chmod -R 777 ${subdir}/*\n",
    "\n",
    "    done\n",
    "done\n",
    "\n",
    "end=$(date +%s.%N)    \n",
    "runtime=$(python -c \"print(${end} - ${start})\")\n",
    "\n",
    "echo \"Runtime was $runtime\"\n"
   ]
  },
  {
   "cell_type": "markdown",
   "metadata": {},
   "source": [
    "____\n",
    "<span style=\"font-family:courier;\">Runtime for 1 subject on BMAP was 587 sec = 9.8 min</span>"
   ]
  },
  {
   "cell_type": "code",
   "execution_count": null,
   "metadata": {},
   "outputs": [],
   "source": []
  }
 ],
 "metadata": {
  "kernelspec": {
   "display_name": "Bash",
   "language": "bash",
   "name": "bash"
  },
  "language_info": {
   "codemirror_mode": "shell",
   "file_extension": ".sh",
   "mimetype": "text/x-sh",
   "name": "bash"
  }
 },
 "nbformat": 4,
 "nbformat_minor": 2
}
