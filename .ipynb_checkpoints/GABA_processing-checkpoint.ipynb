{
 "cells": [
  {
   "cell_type": "markdown",
   "metadata": {},
   "source": [
    "# Processing GABA MRS\n",
    "## Locate and organized data\n",
    "#### Import python packages"
   ]
  },
  {
   "cell_type": "code",
   "execution_count": 18,
   "metadata": {},
   "outputs": [],
   "source": [
    "import glob, sys, os\n",
    "import pandas as pd"
   ]
  },
  {
   "cell_type": "markdown",
   "metadata": {},
   "source": [
    "### Set working directory"
   ]
  },
  {
   "cell_type": "code",
   "execution_count": 19,
   "metadata": {},
   "outputs": [],
   "source": [
    "mrs_directory = '/Users/emilywood/Dropbox/Gaba_Shula'"
   ]
  },
  {
   "cell_type": "markdown",
   "metadata": {},
   "source": [
    "### Find Water-Suppressed (WS) and Non-Water-Suppressed (NWS) Twix (.dat) files"
   ]
  },
  {
   "cell_type": "code",
   "execution_count": 20,
   "metadata": {},
   "outputs": [],
   "source": [
    "WS_paths = glob.glob(os.path.join(mrs_directory, '*/*_WS.dat'))\n",
    "NWS_paths = glob.glob(os.path.join(mrs_directory, '*/*_NWS.dat'))\n",
    "\n",
    "df_ws = pd.DataFrame(WS_paths)\n",
    "df_ws.to_csv(os.path.join(mrs_directory, 'WS_paths.csv'), index=False)\n",
    "\n",
    "df_nws = pd.DataFrame(NWS_paths)\n",
    "df_nws.to_csv(os.path.join(mrs_directory, 'NWS_paths.csv'), index=False)"
   ]
  },
  {
   "cell_type": "markdown",
   "metadata": {},
   "source": [
    "## Run Gannet\n"
   ]
  },
  {
   "cell_type": "code",
   "execution_count": null,
   "metadata": {},
   "outputs": [],
   "source": []
  }
 ],
 "metadata": {
  "kernelspec": {
   "display_name": "Python 3",
   "language": "python",
   "name": "python3"
  },
  "language_info": {
   "codemirror_mode": {
    "name": "ipython",
    "version": 3
   },
   "file_extension": ".py",
   "mimetype": "text/x-python",
   "name": "python",
   "nbconvert_exporter": "python",
   "pygments_lexer": "ipython3",
   "version": "3.5.5"
  }
 },
 "nbformat": 4,
 "nbformat_minor": 2
}
